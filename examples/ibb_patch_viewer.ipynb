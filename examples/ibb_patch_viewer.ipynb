{
 "cells": [
  {
   "cell_type": "markdown",
   "id": "376f368e-c62c-4cce-9342-ffc19377afe4",
   "metadata": {},
   "source": [
    "# PatchViewer"
   ]
  },
  {
   "cell_type": "code",
   "execution_count": 1,
   "id": "c26b922e-7b61-4adc-8fc3-e51364b72d36",
   "metadata": {},
   "outputs": [],
   "source": [
    "import brambox as bb\n",
    "import ibb"
   ]
  },
  {
   "cell_type": "code",
   "execution_count": 2,
   "id": "b41650ac-28c6-40e4-a0a7-d989ba3620d3",
   "metadata": {},
   "outputs": [
    {
     "data": {
      "text/plain": [
       "\u001b[0;31mInit signature:\u001b[0m\n",
       "\u001b[0mibb\u001b[0m\u001b[0;34m.\u001b[0m\u001b[0mPatchViewer\u001b[0m\u001b[0;34m(\u001b[0m\u001b[0;34m\u001b[0m\n",
       "\u001b[0;34m\u001b[0m    \u001b[0mimages\u001b[0m\u001b[0;34m,\u001b[0m\u001b[0;34m\u001b[0m\n",
       "\u001b[0;34m\u001b[0m    \u001b[0mboxes\u001b[0m\u001b[0;34m,\u001b[0m\u001b[0;34m\u001b[0m\n",
       "\u001b[0;34m\u001b[0m    \u001b[0mpatch\u001b[0m\u001b[0;34m,\u001b[0m\u001b[0;34m\u001b[0m\n",
       "\u001b[0;34m\u001b[0m    \u001b[0moverlap\u001b[0m\u001b[0;34m=\u001b[0m\u001b[0;32mNone\u001b[0m\u001b[0;34m,\u001b[0m\u001b[0;34m\u001b[0m\n",
       "\u001b[0;34m\u001b[0m    \u001b[0mlabel\u001b[0m\u001b[0;34m=\u001b[0m\u001b[0;32mTrue\u001b[0m\u001b[0;34m,\u001b[0m\u001b[0;34m\u001b[0m\n",
       "\u001b[0;34m\u001b[0m    \u001b[0mcolor\u001b[0m\u001b[0;34m=\u001b[0m\u001b[0;32mNone\u001b[0m\u001b[0;34m,\u001b[0m\u001b[0;34m\u001b[0m\n",
       "\u001b[0;34m\u001b[0m    \u001b[0msize\u001b[0m\u001b[0;34m=\u001b[0m\u001b[0;36m3\u001b[0m\u001b[0;34m,\u001b[0m\u001b[0;34m\u001b[0m\n",
       "\u001b[0;34m\u001b[0m    \u001b[0malpha\u001b[0m\u001b[0;34m=\u001b[0m\u001b[0;36m0.5\u001b[0m\u001b[0;34m,\u001b[0m\u001b[0;34m\u001b[0m\n",
       "\u001b[0;34m\u001b[0m    \u001b[0minfo\u001b[0m\u001b[0;34m=\u001b[0m\u001b[0;32mFalse\u001b[0m\u001b[0;34m,\u001b[0m\u001b[0;34m\u001b[0m\n",
       "\u001b[0;34m\u001b[0m    \u001b[0mdraw_box\u001b[0m\u001b[0;34m=\u001b[0m\u001b[0;32mNone\u001b[0m\u001b[0;34m,\u001b[0m\u001b[0;34m\u001b[0m\n",
       "\u001b[0;34m\u001b[0m    \u001b[0mwidth\u001b[0m\u001b[0;34m=\u001b[0m\u001b[0;36m800\u001b[0m\u001b[0;34m,\u001b[0m\u001b[0;34m\u001b[0m\n",
       "\u001b[0;34m\u001b[0m    \u001b[0mheight\u001b[0m\u001b[0;34m=\u001b[0m\u001b[0;36m500\u001b[0m\u001b[0;34m,\u001b[0m\u001b[0;34m\u001b[0m\n",
       "\u001b[0;34m\u001b[0m    \u001b[0;34m**\u001b[0m\u001b[0mkwargs\u001b[0m\u001b[0;34m,\u001b[0m\u001b[0;34m\u001b[0m\n",
       "\u001b[0;34m\u001b[0m\u001b[0;34m)\u001b[0m\u001b[0;34m\u001b[0m\u001b[0;34m\u001b[0m\u001b[0m\n",
       "\u001b[0;31mDocstring:\u001b[0m     \n",
       "This widget works in a similar way as the :class:`~ibb.BramboxViewer`,\n",
       "but is meant to be used with large images and splits it in smaller patches with overlap. |br|\n",
       "It's arguments work a lot like brambox's `brambox.util.BoxDrawer` class.\n",
       "\n",
       "Args:\n",
       "    images (callable or dict-like object): A way to get the image or path to the image from the image labels in the dataframe\n",
       "    boxes (pandas.DataFrame): Bounding boxes to draw\n",
       "    patch (int or tuple of int): Width and height of the patch\n",
       "    overlap (int, or tuple of int, optional): width and height overlap between patches; Default **computed automatically**\n",
       "    label (pandas.Series): Label to write above the boxes; Default **class_label (confidence)**\n",
       "    color (pandas.Series): Color to use for drawing; Default **every class_label will get its own color, up to 10 labels**\n",
       "    size (pandas.Series): Thickness of the border of the bounding boxes; Default **3**\n",
       "    alpha (pandas.Series): Alpha fill value of the bounding boxes; Default **00**\n",
       "    show_empty (boolean): Whether to also show images without bounding boxes; Default **True**\n",
       "    info (boolean): Whether or not to show a side-pane with extra information about the clicked bounding box; Default **False**\n",
       "    draw_box (int): Whether or to draw the bounding box or mask (see Note); Default **mask if available, else bounding box**\n",
       "    width (Integer): Width of the widget in pixels; Default **750**\n",
       "    height (Integer): Height of the widget in pixels; Default **500**\n",
       "    **kwargs (dict): Extra keyword arguments that can be passed to the default `ImageCanvas`\n",
       "\n",
       "Note:\n",
       "    If the `images` argument is callable, the image or path to the image will be retrieved in the following way:\n",
       "    >>> image = images(image_label)\n",
       "\n",
       "    Otherwise the image or path is retrieved as:\n",
       "    >>> image = images[image_label]\n",
       "\n",
       "Note:\n",
       "    The `label`, `color`, `size` and `alpha` arguments can also be tacked on to the `boxes` dataframe as columns.\n",
       "    They can also be a single value, which will then be used for each bounding box. |br|\n",
       "    Basically, as long as you can assign the value as a new column to the dataframe, it will work.\n",
       "\n",
       "Note:\n",
       "    The `draw_box` variable can be one of 3 different values:\n",
       "\n",
       "    - 0 : Draw nothing\n",
       "    - 1 : Draw bounding boxes\n",
       "    - 2 : Draw segmentation masks (only available if 'segmentation' column is found in boxes)\n",
       "\n",
       "    You can also change this value by clicking on the \"toggle box/mask\" button.\n",
       "\u001b[0;31mInit docstring:\u001b[0m Public constructor\n",
       "\u001b[0;31mFile:\u001b[0m           /media/data/Documents/code/python/ibb/ibb/_patch_viewer.py\n",
       "\u001b[0;31mType:\u001b[0m           MetaHasTraits\n",
       "\u001b[0;31mSubclasses:\u001b[0m     \n"
      ]
     },
     "metadata": {},
     "output_type": "display_data"
    }
   ],
   "source": [
    "ibb.PatchViewer?"
   ]
  },
  {
   "cell_type": "markdown",
   "id": "ac91ef21-4769-4e63-80e6-45ee6ecd30ff",
   "metadata": {
    "jp-MarkdownHeadingCollapsed": true,
    "tags": []
   },
   "source": [
    "## Example"
   ]
  },
  {
   "cell_type": "code",
   "execution_count": 3,
   "id": "48560f71-e300-4012-8ab6-e199d583abce",
   "metadata": {},
   "outputs": [
    {
     "data": {
      "text/html": [
       "<div>\n",
       "<style scoped>\n",
       "    .dataframe tbody tr th:only-of-type {\n",
       "        vertical-align: middle;\n",
       "    }\n",
       "\n",
       "    .dataframe tbody tr th {\n",
       "        vertical-align: top;\n",
       "    }\n",
       "\n",
       "    .dataframe thead th {\n",
       "        text-align: right;\n",
       "    }\n",
       "</style>\n",
       "<table border=\"1\" class=\"dataframe\">\n",
       "  <thead>\n",
       "    <tr style=\"text-align: right;\">\n",
       "      <th></th>\n",
       "      <th>image</th>\n",
       "      <th>class_label</th>\n",
       "      <th>id</th>\n",
       "      <th>x_top_left</th>\n",
       "      <th>y_top_left</th>\n",
       "      <th>width</th>\n",
       "      <th>height</th>\n",
       "      <th>occluded</th>\n",
       "      <th>truncated</th>\n",
       "      <th>lost</th>\n",
       "      <th>difficult</th>\n",
       "      <th>ignore</th>\n",
       "    </tr>\n",
       "  </thead>\n",
       "  <tbody>\n",
       "    <tr>\n",
       "      <th>0</th>\n",
       "      <td>000001</td>\n",
       "      <td>dog</td>\n",
       "      <td>NaN</td>\n",
       "      <td>48.0</td>\n",
       "      <td>240.0</td>\n",
       "      <td>147.0</td>\n",
       "      <td>131.0</td>\n",
       "      <td>0.0</td>\n",
       "      <td>1.0</td>\n",
       "      <td>False</td>\n",
       "      <td>False</td>\n",
       "      <td>False</td>\n",
       "    </tr>\n",
       "    <tr>\n",
       "      <th>1</th>\n",
       "      <td>000001</td>\n",
       "      <td>person</td>\n",
       "      <td>NaN</td>\n",
       "      <td>8.0</td>\n",
       "      <td>12.0</td>\n",
       "      <td>344.0</td>\n",
       "      <td>486.0</td>\n",
       "      <td>0.0</td>\n",
       "      <td>1.0</td>\n",
       "      <td>False</td>\n",
       "      <td>False</td>\n",
       "      <td>False</td>\n",
       "    </tr>\n",
       "    <tr>\n",
       "      <th>2</th>\n",
       "      <td>000002</td>\n",
       "      <td>train</td>\n",
       "      <td>NaN</td>\n",
       "      <td>139.0</td>\n",
       "      <td>200.0</td>\n",
       "      <td>68.0</td>\n",
       "      <td>101.0</td>\n",
       "      <td>0.0</td>\n",
       "      <td>0.0</td>\n",
       "      <td>False</td>\n",
       "      <td>False</td>\n",
       "      <td>False</td>\n",
       "    </tr>\n",
       "    <tr>\n",
       "      <th>3</th>\n",
       "      <td>000003</td>\n",
       "      <td>sofa</td>\n",
       "      <td>NaN</td>\n",
       "      <td>123.0</td>\n",
       "      <td>155.0</td>\n",
       "      <td>92.0</td>\n",
       "      <td>40.0</td>\n",
       "      <td>0.0</td>\n",
       "      <td>0.0</td>\n",
       "      <td>False</td>\n",
       "      <td>False</td>\n",
       "      <td>False</td>\n",
       "    </tr>\n",
       "    <tr>\n",
       "      <th>4</th>\n",
       "      <td>000003</td>\n",
       "      <td>chair</td>\n",
       "      <td>NaN</td>\n",
       "      <td>239.0</td>\n",
       "      <td>156.0</td>\n",
       "      <td>68.0</td>\n",
       "      <td>49.0</td>\n",
       "      <td>0.0</td>\n",
       "      <td>0.0</td>\n",
       "      <td>False</td>\n",
       "      <td>False</td>\n",
       "      <td>False</td>\n",
       "    </tr>\n",
       "    <tr>\n",
       "      <th>5</th>\n",
       "      <td>000004</td>\n",
       "      <td>car</td>\n",
       "      <td>NaN</td>\n",
       "      <td>13.0</td>\n",
       "      <td>311.0</td>\n",
       "      <td>71.0</td>\n",
       "      <td>51.0</td>\n",
       "      <td>0.0</td>\n",
       "      <td>0.0</td>\n",
       "      <td>False</td>\n",
       "      <td>False</td>\n",
       "      <td>False</td>\n",
       "    </tr>\n",
       "    <tr>\n",
       "      <th>6</th>\n",
       "      <td>000004</td>\n",
       "      <td>car</td>\n",
       "      <td>NaN</td>\n",
       "      <td>362.0</td>\n",
       "      <td>330.0</td>\n",
       "      <td>138.0</td>\n",
       "      <td>59.0</td>\n",
       "      <td>0.0</td>\n",
       "      <td>1.0</td>\n",
       "      <td>False</td>\n",
       "      <td>False</td>\n",
       "      <td>False</td>\n",
       "    </tr>\n",
       "    <tr>\n",
       "      <th>7</th>\n",
       "      <td>000004</td>\n",
       "      <td>car</td>\n",
       "      <td>NaN</td>\n",
       "      <td>235.0</td>\n",
       "      <td>328.0</td>\n",
       "      <td>99.0</td>\n",
       "      <td>47.0</td>\n",
       "      <td>0.0</td>\n",
       "      <td>0.0</td>\n",
       "      <td>False</td>\n",
       "      <td>False</td>\n",
       "      <td>False</td>\n",
       "    </tr>\n",
       "    <tr>\n",
       "      <th>8</th>\n",
       "      <td>000004</td>\n",
       "      <td>car</td>\n",
       "      <td>NaN</td>\n",
       "      <td>175.0</td>\n",
       "      <td>327.0</td>\n",
       "      <td>77.0</td>\n",
       "      <td>37.0</td>\n",
       "      <td>0.0</td>\n",
       "      <td>0.0</td>\n",
       "      <td>False</td>\n",
       "      <td>False</td>\n",
       "      <td>False</td>\n",
       "    </tr>\n",
       "    <tr>\n",
       "      <th>9</th>\n",
       "      <td>000004</td>\n",
       "      <td>car</td>\n",
       "      <td>NaN</td>\n",
       "      <td>139.0</td>\n",
       "      <td>320.0</td>\n",
       "      <td>50.0</td>\n",
       "      <td>39.0</td>\n",
       "      <td>0.0</td>\n",
       "      <td>0.0</td>\n",
       "      <td>False</td>\n",
       "      <td>False</td>\n",
       "      <td>False</td>\n",
       "    </tr>\n",
       "    <tr>\n",
       "      <th>10</th>\n",
       "      <td>000004</td>\n",
       "      <td>car</td>\n",
       "      <td>NaN</td>\n",
       "      <td>108.0</td>\n",
       "      <td>325.0</td>\n",
       "      <td>42.0</td>\n",
       "      <td>28.0</td>\n",
       "      <td>0.0</td>\n",
       "      <td>0.0</td>\n",
       "      <td>False</td>\n",
       "      <td>False</td>\n",
       "      <td>False</td>\n",
       "    </tr>\n",
       "    <tr>\n",
       "      <th>11</th>\n",
       "      <td>000004</td>\n",
       "      <td>car</td>\n",
       "      <td>NaN</td>\n",
       "      <td>84.0</td>\n",
       "      <td>323.0</td>\n",
       "      <td>37.0</td>\n",
       "      <td>27.0</td>\n",
       "      <td>0.0</td>\n",
       "      <td>0.0</td>\n",
       "      <td>False</td>\n",
       "      <td>False</td>\n",
       "      <td>False</td>\n",
       "    </tr>\n",
       "  </tbody>\n",
       "</table>\n",
       "</div>"
      ],
      "text/plain": [
       "     image class_label  id  x_top_left  y_top_left  width  height  occluded  \\\n",
       "0   000001         dog NaN        48.0       240.0  147.0   131.0       0.0   \n",
       "1   000001      person NaN         8.0        12.0  344.0   486.0       0.0   \n",
       "2   000002       train NaN       139.0       200.0   68.0   101.0       0.0   \n",
       "3   000003        sofa NaN       123.0       155.0   92.0    40.0       0.0   \n",
       "4   000003       chair NaN       239.0       156.0   68.0    49.0       0.0   \n",
       "5   000004         car NaN        13.0       311.0   71.0    51.0       0.0   \n",
       "6   000004         car NaN       362.0       330.0  138.0    59.0       0.0   \n",
       "7   000004         car NaN       235.0       328.0   99.0    47.0       0.0   \n",
       "8   000004         car NaN       175.0       327.0   77.0    37.0       0.0   \n",
       "9   000004         car NaN       139.0       320.0   50.0    39.0       0.0   \n",
       "10  000004         car NaN       108.0       325.0   42.0    28.0       0.0   \n",
       "11  000004         car NaN        84.0       323.0   37.0    27.0       0.0   \n",
       "\n",
       "    truncated   lost  difficult  ignore  \n",
       "0         1.0  False      False   False  \n",
       "1         1.0  False      False   False  \n",
       "2         0.0  False      False   False  \n",
       "3         0.0  False      False   False  \n",
       "4         0.0  False      False   False  \n",
       "5         0.0  False      False   False  \n",
       "6         1.0  False      False   False  \n",
       "7         0.0  False      False   False  \n",
       "8         0.0  False      False   False  \n",
       "9         0.0  False      False   False  \n",
       "10        0.0  False      False   False  \n",
       "11        0.0  False      False   False  "
      ]
     },
     "execution_count": 3,
     "metadata": {},
     "output_type": "execute_result"
    }
   ],
   "source": [
    "# Load annotations\n",
    "anno = bb.io.load('pandas', 'annotations.h5')\n",
    "anno"
   ]
  },
  {
   "cell_type": "code",
   "execution_count": 4,
   "id": "b38bc7cf-2345-4832-9829-f32f126b524a",
   "metadata": {},
   "outputs": [
    {
     "data": {
      "application/vnd.jupyter.widget-view+json": {
       "model_id": "dc57721780cc4c8f983e1c383048523f",
       "version_major": 2,
       "version_minor": 0
      },
      "text/plain": [
       "PatchViewer(children=(HBox(children=(HTML(value='000001 (2,4)', layout=Layout(height='28px'), placeholder='ima…"
      ]
     },
     "metadata": {},
     "output_type": "display_data"
    }
   ],
   "source": [
    "ibb.PatchViewer(\n",
    "    # Dictionary or Function to map image column to image paths\n",
    "    lambda name: f'images/{name}.jpg',    \n",
    "    anno,\n",
    "    patch=100,\n",
    "    overlap=10,\n",
    ")"
   ]
  }
 ],
 "metadata": {
  "kernelspec": {
   "display_name": "Python 3 (ipykernel)",
   "language": "python",
   "name": "python3"
  },
  "language_info": {
   "codemirror_mode": {
    "name": "ipython",
    "version": 3
   },
   "file_extension": ".py",
   "mimetype": "text/x-python",
   "name": "python",
   "nbconvert_exporter": "python",
   "pygments_lexer": "ipython3",
   "version": "3.10.5"
  },
  "widgets": {
   "application/vnd.jupyter.widget-state+json": {
    "state": {
     "033a8f11350c46b091837ab6383eea1b": {
      "model_module": "@jupyter-widgets/controls",
      "model_module_version": "1.5.0",
      "model_name": "ButtonStyleModel",
      "state": {}
     },
     "0528f4e3e6d54d218a735887932ae431": {
      "model_module": "@jupyter-widgets/controls",
      "model_module_version": "1.5.0",
      "model_name": "ButtonModel",
      "state": {
       "icon": "square-o",
       "layout": "IPY_MODEL_0b5b0dbc69c94aac9d23af21730e114f",
       "style": "IPY_MODEL_8d62b4cfd0ed4ea49fb76fe2f1f68ec5",
       "tooltip": "toggle box/mask [box]"
      }
     },
     "0b5b0dbc69c94aac9d23af21730e114f": {
      "model_module": "@jupyter-widgets/base",
      "model_module_version": "1.2.0",
      "model_name": "LayoutModel",
      "state": {
       "width": "34px"
      }
     },
     "121871785d174ca58f04da9a1d7ad5e2": {
      "model_module": "@jupyter-widgets/controls",
      "model_module_version": "1.5.0",
      "model_name": "SliderStyleModel",
      "state": {
       "description_width": ""
      }
     },
     "1c20660a6b6746629781375cefda6f77": {
      "model_module": "@jupyter-widgets/base",
      "model_module_version": "1.2.0",
      "model_name": "LayoutModel",
      "state": {
       "align_items": "center",
       "width": "100%"
      }
     },
     "1e789cf943cb478b9e3f1ce5ea08d9c4": {
      "model_module": "@jupyter-widgets/base",
      "model_module_version": "1.2.0",
      "model_name": "LayoutModel",
      "state": {
       "width": "34px"
      }
     },
     "2210ff4955114eb6886ba398200c8f4a": {
      "model_module": "@jupyter-widgets/base",
      "model_module_version": "1.2.0",
      "model_name": "LayoutModel",
      "state": {
       "width": "200px"
      }
     },
     "2b7fc8bfe5824471a1e97f495e592dcd": {
      "model_module": "@jupyter-widgets/controls",
      "model_module_version": "1.5.0",
      "model_name": "IntTextModel",
      "state": {
       "layout": "IPY_MODEL_9199cbc9054d48389a7f980fcc37543f",
       "step": 1,
       "style": "IPY_MODEL_ff8713aba1b841b3834c6d2ea71a9d53",
       "value": 38
      }
     },
     "30c2b3911cfb4ea6ad3ad02bf234d868": {
      "model_module": "@jupyter-widgets/controls",
      "model_module_version": "1.5.0",
      "model_name": "HTMLModel",
      "state": {
       "layout": "IPY_MODEL_7d05e16e3cf14580b3aea8e88e5942bf",
       "placeholder": "patch",
       "style": "IPY_MODEL_3e352ec393254037b9b4e1b7c6d95e65",
       "value": "<div style=\"text-align: center; width: 100%\">3,1</div>"
      }
     },
     "3400b5888657457f92e4a720efa41532": {
      "model_module": "@jupyter-widgets/controls",
      "model_module_version": "1.5.0",
      "model_name": "ButtonModel",
      "state": {
       "icon": "bars",
       "layout": "IPY_MODEL_1e789cf943cb478b9e3f1ce5ea08d9c4",
       "style": "IPY_MODEL_36e61b22756a45b0adc0b949808554b9",
       "tooltip": "toggle info"
      }
     },
     "353c6c3c77a949448412c6cfd75062e1": {
      "model_module": "@jupyter-widgets/base",
      "model_module_version": "1.2.0",
      "model_name": "LayoutModel",
      "state": {
       "width": "34px"
      }
     },
     "363e1057883f4e0bb9b8744e8115b542": {
      "model_module": "@jupyter-widgets/base",
      "model_module_version": "1.2.0",
      "model_name": "LayoutModel",
      "state": {
       "align_items": "center",
       "justify_content": "center",
       "width": "200px"
      }
     },
     "36e61b22756a45b0adc0b949808554b9": {
      "model_module": "@jupyter-widgets/controls",
      "model_module_version": "1.5.0",
      "model_name": "ButtonStyleModel",
      "state": {}
     },
     "373da41c60a04abdaa9fca6e17b5202d": {
      "model_module": "@jupyter-widgets/controls",
      "model_module_version": "1.5.0",
      "model_name": "DescriptionStyleModel",
      "state": {
       "description_width": ""
      }
     },
     "3e352ec393254037b9b4e1b7c6d95e65": {
      "model_module": "@jupyter-widgets/controls",
      "model_module_version": "1.5.0",
      "model_name": "DescriptionStyleModel",
      "state": {
       "description_width": ""
      }
     },
     "4f2cbc113d2e4187bfc595f7c7763d24": {
      "model_module": "@jupyter-widgets/base",
      "model_module_version": "1.2.0",
      "model_name": "LayoutModel",
      "state": {
       "justify_content": "flex-end",
       "width": "200px"
      }
     },
     "4fc1e1feddac428193a6c46c02cc51ab": {
      "model_module": "@jupyter-widgets/controls",
      "model_module_version": "1.5.0",
      "model_name": "ButtonModel",
      "state": {
       "icon": "forward",
       "layout": "IPY_MODEL_e97c150d9b86497d9c1266ca87fa93e4",
       "style": "IPY_MODEL_ff5cc7ebf0ef4eef87932c68090073b6",
       "tooltip": "next image"
      }
     },
     "518c09743b1b49b3a815a0af173e7edb": {
      "model_module": "@jupyter-widgets/controls",
      "model_module_version": "1.5.0",
      "model_name": "ButtonModel",
      "state": {
       "icon": "caret-up",
       "layout": "IPY_MODEL_da7f09ca4af5462a85bdb4fca0bec3b8",
       "style": "IPY_MODEL_85cb72bb8524411fae2a47ad5ada01d8"
      }
     },
     "550ded31651749e2833ca94c7adc7f8f": {
      "model_module": "@jupyter-widgets/controls",
      "model_module_version": "1.5.0",
      "model_name": "ButtonStyleModel",
      "state": {}
     },
     "584eb7a2e97f42c7b38f386c41e7723c": {
      "model_module": "@jupyter-widgets/controls",
      "model_module_version": "1.5.0",
      "model_name": "HTMLModel",
      "state": {
       "layout": "IPY_MODEL_e929426bcdaa47fabacceccb4d207038",
       "style": "IPY_MODEL_88ab28820680438d95175e00bc7505e7",
       "value": "/ 69"
      }
     },
     "5fd85a62de88479eba00a7e4a5cf9c71": {
      "model_module": "@jupyter-widgets/base",
      "model_module_version": "1.2.0",
      "model_name": "LayoutModel",
      "state": {
       "height": "28px"
      }
     },
     "62de2423b3f94eafa39fb26524d8690a": {
      "model_module": "@jupyter-widgets/controls",
      "model_module_version": "1.5.0",
      "model_name": "HTMLModel",
      "state": {
       "layout": "IPY_MODEL_e153b58bb404477693de21d0aa74812b",
       "placeholder": "label",
       "style": "IPY_MODEL_373da41c60a04abdaa9fca6e17b5202d"
      }
     },
     "6b4af69438a54af5a213677ef54207ea": {
      "model_module": "@jupyter-widgets/base",
      "model_module_version": "1.2.0",
      "model_name": "LayoutModel",
      "state": {
       "height": "502px",
       "margin": "0",
       "padding": "2px",
       "width": "30px"
      }
     },
     "6d920ebec6724b4b94ea2fbc0ef870cf": {
      "model_module": "@jupyter-widgets/controls",
      "model_module_version": "1.5.0",
      "model_name": "ButtonStyleModel",
      "state": {}
     },
     "6efb8db1e45f43268ab97d91ac9d8a68": {
      "model_module": "@jupyter-widgets/base",
      "model_module_version": "1.2.0",
      "model_name": "LayoutModel",
      "state": {
       "height": "28px",
       "width": "34px"
      }
     },
     "7248af1470d14f3dabc8e98b8e3367f2": {
      "model_module": "@jupyter-widgets/controls",
      "model_module_version": "1.5.0",
      "model_name": "ButtonModel",
      "state": {
       "icon": "caret-right",
       "layout": "IPY_MODEL_83366e8cebe74576afc942b778805b3e",
       "style": "IPY_MODEL_033a8f11350c46b091837ab6383eea1b"
      }
     },
     "74ca06efa79f417e9b2f064c35c65315": {
      "model_module": "@jupyter-widgets/base",
      "model_module_version": "1.2.0",
      "model_name": "LayoutModel",
      "state": {}
     },
     "78399152b93b48348bda448db7cc7724": {
      "model_module": "@jupyter-widgets/controls",
      "model_module_version": "1.5.0",
      "model_name": "ButtonModel",
      "state": {
       "icon": "picture-o",
       "layout": "IPY_MODEL_353c6c3c77a949448412c6cfd75062e1",
       "style": "IPY_MODEL_6d920ebec6724b4b94ea2fbc0ef870cf",
       "tooltip": "save image"
      }
     },
     "7bd778b0214c4791bcc0f62fcfa12fc6": {
      "model_module": "@jupyter-widgets/controls",
      "model_module_version": "1.5.0",
      "model_name": "HBoxModel",
      "state": {
       "children": [
        "IPY_MODEL_99af130004454e3e926bf447869fbfa4",
        "IPY_MODEL_ea47fe492cb948dbb1cda26c53327e51"
       ],
       "layout": "IPY_MODEL_b9b926f65e7344aab5ee3ac56680f0fb"
      }
     },
     "7d05e16e3cf14580b3aea8e88e5942bf": {
      "model_module": "@jupyter-widgets/base",
      "model_module_version": "1.2.0",
      "model_name": "LayoutModel",
      "state": {
       "height": "28px",
       "width": "34px"
      }
     },
     "80b32109808f4886a7d1413deb044dc9": {
      "model_module": "@jupyter-widgets/base",
      "model_module_version": "1.2.0",
      "model_name": "LayoutModel",
      "state": {
       "align_items": "center",
       "justify_content": "space-between",
       "margin": "0",
       "width": "802px"
      }
     },
     "83366e8cebe74576afc942b778805b3e": {
      "model_module": "@jupyter-widgets/base",
      "model_module_version": "1.2.0",
      "model_name": "LayoutModel",
      "state": {
       "height": "28px",
       "width": "34px"
      }
     },
     "85cb72bb8524411fae2a47ad5ada01d8": {
      "model_module": "@jupyter-widgets/controls",
      "model_module_version": "1.5.0",
      "model_name": "ButtonStyleModel",
      "state": {}
     },
     "88ab28820680438d95175e00bc7505e7": {
      "model_module": "@jupyter-widgets/controls",
      "model_module_version": "1.5.0",
      "model_name": "DescriptionStyleModel",
      "state": {
       "description_width": ""
      }
     },
     "898b1a65e76f41c2901658f305c47dfa": {
      "model_module": "@jupyter-widgets/controls",
      "model_module_version": "1.5.0",
      "model_name": "HTMLModel",
      "state": {
       "layout": "IPY_MODEL_f00a355e1343440fa658625fcf5f202f",
       "placeholder": "info",
       "style": "IPY_MODEL_de68fd5bb92840dca8f47f38930ebdb3"
      }
     },
     "8a1a706ca118451cb1f66f91a7f261b8": {
      "model_module": "@jupyter-widgets/controls",
      "model_module_version": "1.5.0",
      "model_name": "ButtonModel",
      "state": {
       "icon": "caret-left",
       "layout": "IPY_MODEL_6efb8db1e45f43268ab97d91ac9d8a68",
       "style": "IPY_MODEL_550ded31651749e2833ca94c7adc7f8f"
      }
     },
     "8d62b4cfd0ed4ea49fb76fe2f1f68ec5": {
      "model_module": "@jupyter-widgets/controls",
      "model_module_version": "1.5.0",
      "model_name": "ButtonStyleModel",
      "state": {}
     },
     "9199cbc9054d48389a7f980fcc37543f": {
      "model_module": "@jupyter-widgets/base",
      "model_module_version": "1.2.0",
      "model_name": "LayoutModel",
      "state": {
       "width": "75px"
      }
     },
     "96ab47a695af4cb79028427448ad8e74": {
      "model_module": "@jupyter-widgets/base",
      "model_module_version": "1.2.0",
      "model_name": "LayoutModel",
      "state": {
       "align_items": "center",
       "justify_content": "center"
      }
     },
     "99af130004454e3e926bf447869fbfa4": {
      "model_module": "@jupyter-widgets/controls",
      "model_module_version": "1.5.0",
      "model_name": "HTMLModel",
      "state": {
       "layout": "IPY_MODEL_5fd85a62de88479eba00a7e4a5cf9c71",
       "placeholder": "image",
       "style": "IPY_MODEL_ff7cfa910f0f485ab0b380d1b8c2dd0c",
       "value": "000003 (4,3)"
      }
     },
     "9aa46e401d734870b9bdf140d5a13a30": {
      "model_module": "@jupyter-widgets/base",
      "model_module_version": "1.2.0",
      "model_name": "LayoutModel",
      "state": {
       "height": "28px",
       "width": "34px"
      }
     },
     "9e7be826deee4e89909a9b3b1584e209": {
      "model_module": "@jupyter-widgets/controls",
      "model_module_version": "1.5.0",
      "model_name": "HBoxModel",
      "state": {
       "children": [
        "IPY_MODEL_8a1a706ca118451cb1f66f91a7f261b8",
        "IPY_MODEL_f887ed9416b94b03bb0dc041fb4001ff",
        "IPY_MODEL_7248af1470d14f3dabc8e98b8e3367f2"
       ],
       "layout": "IPY_MODEL_363e1057883f4e0bb9b8744e8115b542"
      }
     },
     "a0f3ee9677294fccbe99a9300eff8aca": {
      "model_module": "@jupyter-widgets/controls",
      "model_module_version": "1.5.0",
      "model_name": "ButtonStyleModel",
      "state": {}
     },
     "a6bfe32cfd694b30bfd0631736bc4193": {
      "model_module": "@jupyter-widgets/base",
      "model_module_version": "1.2.0",
      "model_name": "LayoutModel",
      "state": {
       "width": "802px"
      }
     },
     "ac031acfa89d43f6ae5ba12a67105656": {
      "model_module": "@jupyter-widgets/controls",
      "model_module_version": "1.5.0",
      "model_name": "ButtonStyleModel",
      "state": {}
     },
     "afa1276d8b234dff881747205059aadd": {
      "model_module": "@jupyter-widgets/base",
      "model_module_version": "1.2.0",
      "model_name": "LayoutModel",
      "state": {}
     },
     "b05d1210b20d48bf87abce9ef1529c96": {
      "model_module": "@jupyter-widgets/controls",
      "model_module_version": "1.5.0",
      "model_name": "ButtonModel",
      "state": {
       "icon": "backward",
       "layout": "IPY_MODEL_74ca06efa79f417e9b2f064c35c65315",
       "style": "IPY_MODEL_a0f3ee9677294fccbe99a9300eff8aca",
       "tooltip": "previous image"
      }
     },
     "b9b926f65e7344aab5ee3ac56680f0fb": {
      "model_module": "@jupyter-widgets/base",
      "model_module_version": "1.2.0",
      "model_name": "LayoutModel",
      "state": {
       "justify_content": "space-between",
       "margin": "0",
       "width": "802px"
      }
     },
     "cf960ee87c3d44e689db312d48a61534": {
      "model_module": "@jupyter-widgets/controls",
      "model_module_version": "1.5.0",
      "model_name": "ButtonModel",
      "state": {
       "icon": "caret-down",
       "layout": "IPY_MODEL_9aa46e401d734870b9bdf140d5a13a30",
       "style": "IPY_MODEL_ac031acfa89d43f6ae5ba12a67105656"
      }
     },
     "d9863b1e090143ddb91b2fc4db44a3c7": {
      "model_module": "@jupyter-widgets/controls",
      "model_module_version": "1.5.0",
      "model_name": "IntSliderModel",
      "state": {
       "continuous_update": false,
       "layout": "IPY_MODEL_6b4af69438a54af5a213677ef54207ea",
       "orientation": "vertical",
       "style": "IPY_MODEL_121871785d174ca58f04da9a1d7ad5e2"
      }
     },
     "da7f09ca4af5462a85bdb4fca0bec3b8": {
      "model_module": "@jupyter-widgets/base",
      "model_module_version": "1.2.0",
      "model_name": "LayoutModel",
      "state": {
       "height": "28px",
       "width": "34px"
      }
     },
     "dc57721780cc4c8f983e1c383048523f": {
      "model_module": "ibb",
      "model_module_version": "^2.1.0",
      "model_name": "MainContainerModel",
      "state": {
       "_model_module_version": "^2.1.0",
       "_view_module_version": "^2.1.0",
       "children": [
        "IPY_MODEL_7bd778b0214c4791bcc0f62fcfa12fc6",
        "IPY_MODEL_f93829d2e2bd4f8fab95e667d0200afa",
        "IPY_MODEL_e490c7908f804b80ab206004b2683362"
       ],
       "layout": "IPY_MODEL_1c20660a6b6746629781375cefda6f77"
      }
     },
     "de68fd5bb92840dca8f47f38930ebdb3": {
      "model_module": "@jupyter-widgets/controls",
      "model_module_version": "1.5.0",
      "model_name": "DescriptionStyleModel",
      "state": {
       "description_width": ""
      }
     },
     "e153b58bb404477693de21d0aa74812b": {
      "model_module": "@jupyter-widgets/base",
      "model_module_version": "1.2.0",
      "model_name": "LayoutModel",
      "state": {
       "height": "28px"
      }
     },
     "e490c7908f804b80ab206004b2683362": {
      "model_module": "@jupyter-widgets/controls",
      "model_module_version": "1.5.0",
      "model_name": "HBoxModel",
      "state": {
       "children": [
        "IPY_MODEL_f9409a68611642479de5c2b49c841701",
        "IPY_MODEL_9e7be826deee4e89909a9b3b1584e209",
        "IPY_MODEL_e5c112713d5e4ee5a795793e40fb7e3f"
       ],
       "layout": "IPY_MODEL_80b32109808f4886a7d1413deb044dc9"
      }
     },
     "e5c112713d5e4ee5a795793e40fb7e3f": {
      "model_module": "@jupyter-widgets/controls",
      "model_module_version": "1.5.0",
      "model_name": "HBoxModel",
      "state": {
       "children": [
        "IPY_MODEL_2b7fc8bfe5824471a1e97f495e592dcd",
        "IPY_MODEL_584eb7a2e97f42c7b38f386c41e7723c"
       ],
       "layout": "IPY_MODEL_4f2cbc113d2e4187bfc595f7c7763d24"
      }
     },
     "e929426bcdaa47fabacceccb4d207038": {
      "model_module": "@jupyter-widgets/base",
      "model_module_version": "1.2.0",
      "model_name": "LayoutModel",
      "state": {}
     },
     "e97c150d9b86497d9c1266ca87fa93e4": {
      "model_module": "@jupyter-widgets/base",
      "model_module_version": "1.2.0",
      "model_name": "LayoutModel",
      "state": {}
     },
     "ea47fe492cb948dbb1cda26c53327e51": {
      "model_module": "@jupyter-widgets/controls",
      "model_module_version": "1.5.0",
      "model_name": "HBoxModel",
      "state": {
       "children": [
        "IPY_MODEL_62de2423b3f94eafa39fb26524d8690a",
        "IPY_MODEL_78399152b93b48348bda448db7cc7724",
        "IPY_MODEL_0528f4e3e6d54d218a735887932ae431",
        "IPY_MODEL_3400b5888657457f92e4a720efa41532"
       ],
       "layout": "IPY_MODEL_afa1276d8b234dff881747205059aadd"
      }
     },
     "eedebea623c341239b4c48bc5c5dac4b": {
      "model_module": "@jupyter-widgets/base",
      "model_module_version": "1.2.0",
      "model_name": "LayoutModel",
      "state": {}
     },
     "f00a355e1343440fa658625fcf5f202f": {
      "model_module": "@jupyter-widgets/base",
      "model_module_version": "1.2.0",
      "model_name": "LayoutModel",
      "state": {
       "border": "1px solid lightgray",
       "height": "502px",
       "margin": "0 0 0 -1px",
       "overflow_y": "auto",
       "padding": "2px",
       "width": "201px"
      }
     },
     "f887ed9416b94b03bb0dc041fb4001ff": {
      "model_module": "@jupyter-widgets/controls",
      "model_module_version": "1.5.0",
      "model_name": "VBoxModel",
      "state": {
       "children": [
        "IPY_MODEL_518c09743b1b49b3a815a0af173e7edb",
        "IPY_MODEL_30c2b3911cfb4ea6ad3ad02bf234d868",
        "IPY_MODEL_cf960ee87c3d44e689db312d48a61534"
       ],
       "layout": "IPY_MODEL_96ab47a695af4cb79028427448ad8e74"
      }
     },
     "f93829d2e2bd4f8fab95e667d0200afa": {
      "model_module": "@jupyter-widgets/controls",
      "model_module_version": "1.5.0",
      "model_name": "HBoxModel",
      "state": {
       "children": [
        "IPY_MODEL_fec88bdc0e064c69bfd51716bc382821"
       ],
       "layout": "IPY_MODEL_a6bfe32cfd694b30bfd0631736bc4193"
      }
     },
     "f9409a68611642479de5c2b49c841701": {
      "model_module": "@jupyter-widgets/controls",
      "model_module_version": "1.5.0",
      "model_name": "HBoxModel",
      "state": {
       "children": [
        "IPY_MODEL_b05d1210b20d48bf87abce9ef1529c96",
        "IPY_MODEL_4fc1e1feddac428193a6c46c02cc51ab"
       ],
       "layout": "IPY_MODEL_2210ff4955114eb6886ba398200c8f4a"
      }
     },
     "fec88bdc0e064c69bfd51716bc382821": {
      "buffers": [
       {
        "data": "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",
        "encoding": "base64",
        "path": [
         "image",
         "data"
        ]
       }
      ],
      "model_module": "ibb",
      "model_module_version": "^2.1.0",
      "model_name": "ImageCanvasModel",
      "state": {
       "_model_module_version": "^2.1.0",
       "_view_module_version": "^2.1.0",
       "alpha": "00",
       "click_style": {
        "alpha": null,
        "color": null,
        "size": 5
       },
       "clicked": null,
       "color": "#1F77B4",
       "enable_poly": true,
       "enlarge": true,
       "height": 502,
       "hover_style": {
        "alpha": "7f",
        "color": null,
        "size": null
       },
       "hovered": null,
       "image": {
        "shape": [
         100,
         100
        ]
       },
       "layout": "IPY_MODEL_eedebea623c341239b4c48bc5c5dac4b",
       "polygons": [
        {
         "alpha": "7f",
         "color": "rgb(255, 127, 14)",
         "coords": [
          [
           -31,
           66
          ],
          [
           37,
           66
          ],
          [
           37,
           115
          ],
          [
           -31,
           115
          ]
         ],
         "size": 3
        }
       ],
       "save": false,
       "size": 2,
       "width": 802
      }
     },
     "ff5cc7ebf0ef4eef87932c68090073b6": {
      "model_module": "@jupyter-widgets/controls",
      "model_module_version": "1.5.0",
      "model_name": "ButtonStyleModel",
      "state": {}
     },
     "ff7cfa910f0f485ab0b380d1b8c2dd0c": {
      "model_module": "@jupyter-widgets/controls",
      "model_module_version": "1.5.0",
      "model_name": "DescriptionStyleModel",
      "state": {
       "description_width": ""
      }
     },
     "ff8713aba1b841b3834c6d2ea71a9d53": {
      "model_module": "@jupyter-widgets/controls",
      "model_module_version": "1.5.0",
      "model_name": "DescriptionStyleModel",
      "state": {
       "description_width": ""
      }
     }
    },
    "version_major": 2,
    "version_minor": 0
   }
  }
 },
 "nbformat": 4,
 "nbformat_minor": 5
}
