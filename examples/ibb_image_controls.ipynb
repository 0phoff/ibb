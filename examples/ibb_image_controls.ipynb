{
 "cells": [
  {
   "cell_type": "code",
   "execution_count": 1,
   "id": "d6925a65-3a68-42ad-9c84-e8d1fdd34b11",
   "metadata": {},
   "outputs": [],
   "source": [
    "import ipywidgets\n",
    "import ibb"
   ]
  },
  {
   "cell_type": "code",
   "execution_count": 2,
   "id": "107cd7b2-0d86-4bab-b47e-9bcad1786f7c",
   "metadata": {},
   "outputs": [],
   "source": [
    "ctrl = ibb.widgets.ImageControls(100, name='value')\n",
    "out = ipywidgets.Output()\n",
    "\n",
    "def observe_index(change):\n",
    "    out.clear_output()\n",
    "    with out:\n",
    "        print(change['new'])\n",
    "              \n",
    "ctrl.observe(observe_index, names=['index'])"
   ]
  },
  {
   "cell_type": "code",
   "execution_count": 3,
   "id": "5981b4af-349e-4341-a964-bd0097701384",
   "metadata": {},
   "outputs": [
    {
     "data": {
      "application/vnd.jupyter.widget-view+json": {
       "model_id": "3f29ea8d1ba3413687afc50614e6ef17",
       "version_major": 2,
       "version_minor": 0
      },
      "text/plain": [
       "VBox(children=(ImageControls(children=(Button(icon='fast-backward', layout=Layout(padding='0', width='var(--jp…"
      ]
     },
     "metadata": {},
     "output_type": "display_data"
    }
   ],
   "source": [
    "ipywidgets.VBox([ctrl, out])"
   ]
  }
 ],
 "metadata": {
  "kernelspec": {
   "display_name": "Python 3 (ipykernel)",
   "language": "python",
   "name": "python3"
  },
  "language_info": {
   "codemirror_mode": {
    "name": "ipython",
    "version": 3
   },
   "file_extension": ".py",
   "mimetype": "text/x-python",
   "name": "python",
   "nbconvert_exporter": "python",
   "pygments_lexer": "ipython3",
   "version": "3.10.5"
  },
  "widgets": {
   "application/vnd.jupyter.widget-state+json": {
    "state": {
     "0225065228684087b7543c9c3eccbebd": {
      "model_module": "@jupyter-widgets/controls",
      "model_module_version": "1.5.0",
      "model_name": "ButtonStyleModel",
      "state": {}
     },
     "0a3c49d6a1e84bb890588d7b5ded3007": {
      "model_module": "@jupyter-widgets/base",
      "model_module_version": "1.2.0",
      "model_name": "LayoutModel",
      "state": {}
     },
     "1228929dfe554b47aac0d5c4f296090b": {
      "model_module": "@jupyter-widgets/base",
      "model_module_version": "1.2.0",
      "model_name": "LayoutModel",
      "state": {
       "padding": "0",
       "width": "var(--jp-widgets-inline-height)"
      }
     },
     "2067b2e481414a12aa655a8ab9ff8b15": {
      "model_module": "@jupyter-widgets/controls",
      "model_module_version": "1.5.0",
      "model_name": "ButtonStyleModel",
      "state": {}
     },
     "23301bd290c64648b2cee9acad754471": {
      "model_module": "@jupyter-widgets/controls",
      "model_module_version": "1.5.0",
      "model_name": "ButtonStyleModel",
      "state": {}
     },
     "2ba12834eca34f25a14976644d6faf26": {
      "model_module": "@jupyter-widgets/controls",
      "model_module_version": "1.5.0",
      "model_name": "ButtonStyleModel",
      "state": {}
     },
     "2e6c4ad9b6a34b40b8b051d870ef0e9d": {
      "model_module": "@jupyter-widgets/controls",
      "model_module_version": "1.5.0",
      "model_name": "VBoxModel",
      "state": {
       "children": [
        "IPY_MODEL_88f0f12c6e944d49beac2c5b9e869912",
        "IPY_MODEL_7012f9f36c254ea3bc7cdfe3e128de69"
       ],
       "layout": "IPY_MODEL_3d6d9569a2844622b895df5825d25aaa"
      }
     },
     "3ab715141b6b48058a8a888659fae30b": {
      "model_module": "ibb",
      "model_module_version": "^2.1.1",
      "model_name": "UnlinkBoxModel",
      "state": {
       "_model_module_version": "^2.1.1",
       "_view_module_version": "^2.1.1",
       "children": [
        "IPY_MODEL_8867125de1674d9697a3ce66875442d6",
        "IPY_MODEL_767ea4036170400db041fe9dec771d78",
        "IPY_MODEL_9ac82c2874eb40d09bedcdee9488d947",
        "IPY_MODEL_f72ee36d834642088226a30253fbc896",
        "IPY_MODEL_7e9de0005b9f4fca8a6017ef151d7ef6",
        "IPY_MODEL_d9ebc53913a942209a63a0c85aaf4840"
       ],
       "layout": "IPY_MODEL_508e32b0c64b4578b054147c5cc85cad",
       "type": "hbox"
      }
     },
     "3cdc2118ffd74e34a295fcb99755cd15": {
      "model_module": "ibb",
      "model_module_version": "^2.1.1",
      "model_name": "RepeatButtonModel",
      "state": {
       "_model_module_version": "^2.1.1",
       "_view_module_version": "^2.1.1",
       "delay": 0.5,
       "frequency": 24,
       "icon": "step-backward",
       "layout": "IPY_MODEL_80c1663b6e974c8c813bf650c7f15e11",
       "style": "IPY_MODEL_23301bd290c64648b2cee9acad754471",
       "tooltip": "-1 value (hold to repeat)"
      }
     },
     "3d6d9569a2844622b895df5825d25aaa": {
      "model_module": "@jupyter-widgets/base",
      "model_module_version": "1.2.0",
      "model_name": "LayoutModel",
      "state": {}
     },
     "3f29ea8d1ba3413687afc50614e6ef17": {
      "model_module": "@jupyter-widgets/controls",
      "model_module_version": "1.5.0",
      "model_name": "VBoxModel",
      "state": {
       "children": [
        "IPY_MODEL_3ab715141b6b48058a8a888659fae30b",
        "IPY_MODEL_6d1876a317734445a08d0eba8944b060"
       ],
       "layout": "IPY_MODEL_c52b6f0efc564c2a8abb61168c6301f0"
      }
     },
     "4989e6a70ca640778bb815349f9dfbfd": {
      "model_module": "@jupyter-widgets/controls",
      "model_module_version": "1.5.0",
      "model_name": "ButtonModel",
      "state": {
       "icon": "fast-forward",
       "layout": "IPY_MODEL_80c1663b6e974c8c813bf650c7f15e11",
       "style": "IPY_MODEL_9293be9cf9f8469ca588234131c87746",
       "tooltip": "Last value"
      }
     },
     "4bb7b4cb55394b48b8fc71c235be78e4": {
      "model_module": "@jupyter-widgets/controls",
      "model_module_version": "1.5.0",
      "model_name": "ButtonStyleModel",
      "state": {}
     },
     "508e32b0c64b4578b054147c5cc85cad": {
      "model_module": "@jupyter-widgets/base",
      "model_module_version": "1.2.0",
      "model_name": "LayoutModel",
      "state": {}
     },
     "66ea6035856f4c2485be40dc2958e90f": {
      "model_module": "ibb",
      "model_module_version": "^2.1.1",
      "model_name": "RepeatButtonModel",
      "state": {
       "_model_module_version": "^2.1.1",
       "_view_module_version": "^2.1.1",
       "delay": 0.5,
       "frequency": 24,
       "icon": "backward",
       "layout": "IPY_MODEL_80c1663b6e974c8c813bf650c7f15e11",
       "style": "IPY_MODEL_0225065228684087b7543c9c3eccbebd",
       "tooltip": "-10 values (hold to repeat)"
      }
     },
     "6d1876a317734445a08d0eba8944b060": {
      "model_module": "@jupyter-widgets/output",
      "model_module_version": "1.0.0",
      "model_name": "OutputModel",
      "state": {
       "layout": "IPY_MODEL_e362354dc78e432393c603999d818bb0",
       "outputs": [
        {
         "name": "stdout",
         "output_type": "stream",
         "text": "25\n"
        }
       ]
      }
     },
     "7012f9f36c254ea3bc7cdfe3e128de69": {
      "model_module": "@jupyter-widgets/output",
      "model_module_version": "1.0.0",
      "model_name": "OutputModel",
      "state": {
       "layout": "IPY_MODEL_72d9c3c67de14386b355e54ca68246b0",
       "outputs": [
        {
         "name": "stdout",
         "output_type": "stream",
         "text": "0\n"
        }
       ]
      }
     },
     "72d9c3c67de14386b355e54ca68246b0": {
      "model_module": "@jupyter-widgets/base",
      "model_module_version": "1.2.0",
      "model_name": "LayoutModel",
      "state": {}
     },
     "73623b040858410298a120e12606ca86": {
      "model_module": "@jupyter-widgets/controls",
      "model_module_version": "1.5.0",
      "model_name": "ButtonStyleModel",
      "state": {}
     },
     "767ea4036170400db041fe9dec771d78": {
      "model_module": "ibb",
      "model_module_version": "^2.1.1",
      "model_name": "RepeatButtonModel",
      "state": {
       "_model_module_version": "^2.1.1",
       "_view_module_version": "^2.1.1",
       "delay": 0.5,
       "frequency": 24,
       "icon": "backward",
       "layout": "IPY_MODEL_1228929dfe554b47aac0d5c4f296090b",
       "style": "IPY_MODEL_73623b040858410298a120e12606ca86",
       "tooltip": "-10 values (hold to repeat)"
      }
     },
     "7e9de0005b9f4fca8a6017ef151d7ef6": {
      "model_module": "ibb",
      "model_module_version": "^2.1.1",
      "model_name": "RepeatButtonModel",
      "state": {
       "_model_module_version": "^2.1.1",
       "_view_module_version": "^2.1.1",
       "delay": 0.5,
       "frequency": 24,
       "icon": "forward",
       "layout": "IPY_MODEL_1228929dfe554b47aac0d5c4f296090b",
       "style": "IPY_MODEL_fb6f8e95e3904220b4225aeed041cdc7",
       "tooltip": "+10 values (hold to repeat)"
      }
     },
     "80c1663b6e974c8c813bf650c7f15e11": {
      "model_module": "@jupyter-widgets/base",
      "model_module_version": "1.2.0",
      "model_name": "LayoutModel",
      "state": {
       "padding": "0",
       "width": "var(--jp-widgets-inline-height)"
      }
     },
     "8867125de1674d9697a3ce66875442d6": {
      "model_module": "@jupyter-widgets/controls",
      "model_module_version": "1.5.0",
      "model_name": "ButtonModel",
      "state": {
       "icon": "fast-backward",
       "layout": "IPY_MODEL_1228929dfe554b47aac0d5c4f296090b",
       "style": "IPY_MODEL_d06b62bb7d124fed80c43147bb686ada",
       "tooltip": "First value"
      }
     },
     "88f0f12c6e944d49beac2c5b9e869912": {
      "model_module": "ibb",
      "model_module_version": "^2.1.1",
      "model_name": "UnlinkBoxModel",
      "state": {
       "_model_module_version": "^2.1.1",
       "_view_module_version": "^2.1.1",
       "children": [
        "IPY_MODEL_c4639223d62f4eb19f7eb96539859633",
        "IPY_MODEL_66ea6035856f4c2485be40dc2958e90f",
        "IPY_MODEL_3cdc2118ffd74e34a295fcb99755cd15",
        "IPY_MODEL_bfd1933105734b5195ff78e5e8168d80",
        "IPY_MODEL_a012f511dc034de683c95c317d651365",
        "IPY_MODEL_4989e6a70ca640778bb815349f9dfbfd"
       ],
       "layout": "IPY_MODEL_0a3c49d6a1e84bb890588d7b5ded3007",
       "type": "hbox"
      }
     },
     "9293be9cf9f8469ca588234131c87746": {
      "model_module": "@jupyter-widgets/controls",
      "model_module_version": "1.5.0",
      "model_name": "ButtonStyleModel",
      "state": {}
     },
     "9ac82c2874eb40d09bedcdee9488d947": {
      "model_module": "ibb",
      "model_module_version": "^2.1.1",
      "model_name": "RepeatButtonModel",
      "state": {
       "_model_module_version": "^2.1.1",
       "_view_module_version": "^2.1.1",
       "delay": 0.5,
       "frequency": 24,
       "icon": "step-backward",
       "layout": "IPY_MODEL_1228929dfe554b47aac0d5c4f296090b",
       "style": "IPY_MODEL_4bb7b4cb55394b48b8fc71c235be78e4",
       "tooltip": "-1 value (hold to repeat)"
      }
     },
     "a012f511dc034de683c95c317d651365": {
      "model_module": "ibb",
      "model_module_version": "^2.1.1",
      "model_name": "RepeatButtonModel",
      "state": {
       "_model_module_version": "^2.1.1",
       "_view_module_version": "^2.1.1",
       "delay": 0.5,
       "frequency": 24,
       "icon": "forward",
       "layout": "IPY_MODEL_80c1663b6e974c8c813bf650c7f15e11",
       "style": "IPY_MODEL_2ba12834eca34f25a14976644d6faf26",
       "tooltip": "+10 values (hold to repeat)"
      }
     },
     "a53ab3f7135640ce836ffd8fa91079be": {
      "model_module": "@jupyter-widgets/controls",
      "model_module_version": "1.5.0",
      "model_name": "ButtonStyleModel",
      "state": {}
     },
     "bc58915e809f4c979ba79ebe3bffaf37": {
      "model_module": "@jupyter-widgets/controls",
      "model_module_version": "1.5.0",
      "model_name": "ButtonStyleModel",
      "state": {}
     },
     "bfd1933105734b5195ff78e5e8168d80": {
      "model_module": "ibb",
      "model_module_version": "^2.1.1",
      "model_name": "RepeatButtonModel",
      "state": {
       "_model_module_version": "^2.1.1",
       "_view_module_version": "^2.1.1",
       "delay": 0.5,
       "frequency": 24,
       "icon": "step-forward",
       "layout": "IPY_MODEL_80c1663b6e974c8c813bf650c7f15e11",
       "style": "IPY_MODEL_2067b2e481414a12aa655a8ab9ff8b15",
       "tooltip": "+1 value (hold to repeat)"
      }
     },
     "c4639223d62f4eb19f7eb96539859633": {
      "model_module": "@jupyter-widgets/controls",
      "model_module_version": "1.5.0",
      "model_name": "ButtonModel",
      "state": {
       "icon": "fast-backward",
       "layout": "IPY_MODEL_80c1663b6e974c8c813bf650c7f15e11",
       "style": "IPY_MODEL_f8167e026e1a4cd1b4b5f2e85b0e5c50",
       "tooltip": "First value"
      }
     },
     "c52b6f0efc564c2a8abb61168c6301f0": {
      "model_module": "@jupyter-widgets/base",
      "model_module_version": "1.2.0",
      "model_name": "LayoutModel",
      "state": {}
     },
     "d06b62bb7d124fed80c43147bb686ada": {
      "model_module": "@jupyter-widgets/controls",
      "model_module_version": "1.5.0",
      "model_name": "ButtonStyleModel",
      "state": {}
     },
     "d9ebc53913a942209a63a0c85aaf4840": {
      "model_module": "@jupyter-widgets/controls",
      "model_module_version": "1.5.0",
      "model_name": "ButtonModel",
      "state": {
       "icon": "fast-forward",
       "layout": "IPY_MODEL_1228929dfe554b47aac0d5c4f296090b",
       "style": "IPY_MODEL_bc58915e809f4c979ba79ebe3bffaf37",
       "tooltip": "Last value"
      }
     },
     "e362354dc78e432393c603999d818bb0": {
      "model_module": "@jupyter-widgets/base",
      "model_module_version": "1.2.0",
      "model_name": "LayoutModel",
      "state": {}
     },
     "f72ee36d834642088226a30253fbc896": {
      "model_module": "ibb",
      "model_module_version": "^2.1.1",
      "model_name": "RepeatButtonModel",
      "state": {
       "_model_module_version": "^2.1.1",
       "_view_module_version": "^2.1.1",
       "delay": 0.5,
       "frequency": 24,
       "icon": "step-forward",
       "layout": "IPY_MODEL_1228929dfe554b47aac0d5c4f296090b",
       "style": "IPY_MODEL_a53ab3f7135640ce836ffd8fa91079be",
       "tooltip": "+1 value (hold to repeat)"
      }
     },
     "f8167e026e1a4cd1b4b5f2e85b0e5c50": {
      "model_module": "@jupyter-widgets/controls",
      "model_module_version": "1.5.0",
      "model_name": "ButtonStyleModel",
      "state": {}
     },
     "fb6f8e95e3904220b4225aeed041cdc7": {
      "model_module": "@jupyter-widgets/controls",
      "model_module_version": "1.5.0",
      "model_name": "ButtonStyleModel",
      "state": {}
     }
    },
    "version_major": 2,
    "version_minor": 0
   }
  }
 },
 "nbformat": 4,
 "nbformat_minor": 5
}
