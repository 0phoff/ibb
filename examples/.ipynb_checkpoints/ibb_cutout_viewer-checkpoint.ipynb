{
 "cells": [
  {
   "cell_type": "markdown",
   "id": "76e963af-10b9-424d-a8c5-e124d8be52da",
   "metadata": {},
   "source": [
    "# CutoutViewer"
   ]
  },
  {
   "cell_type": "code",
   "execution_count": 1,
   "id": "c26b922e-7b61-4adc-8fc3-e51364b72d36",
   "metadata": {},
   "outputs": [],
   "source": [
    "import brambox as bb\n",
    "import ibb"
   ]
  },
  {
   "cell_type": "code",
   "execution_count": 2,
   "id": "ac60cca0-4018-4e72-92bc-d3d0e18f96a5",
   "metadata": {},
   "outputs": [
    {
     "data": {
      "text/plain": [
       "\u001b[0;31mInit signature:\u001b[0m\n",
       "\u001b[0mibb\u001b[0m\u001b[0;34m.\u001b[0m\u001b[0mCutoutViewer\u001b[0m\u001b[0;34m(\u001b[0m\u001b[0;34m\u001b[0m\n",
       "\u001b[0;34m\u001b[0m    \u001b[0mimages\u001b[0m\u001b[0;34m,\u001b[0m\u001b[0;34m\u001b[0m\n",
       "\u001b[0;34m\u001b[0m    \u001b[0mboxes\u001b[0m\u001b[0;34m,\u001b[0m\u001b[0;34m\u001b[0m\n",
       "\u001b[0;34m\u001b[0m    \u001b[0mlabel\u001b[0m\u001b[0;34m=\u001b[0m\u001b[0;32mTrue\u001b[0m\u001b[0;34m,\u001b[0m\u001b[0;34m\u001b[0m\n",
       "\u001b[0;34m\u001b[0m    \u001b[0mcolor\u001b[0m\u001b[0;34m=\u001b[0m\u001b[0;32mNone\u001b[0m\u001b[0;34m,\u001b[0m\u001b[0;34m\u001b[0m\n",
       "\u001b[0;34m\u001b[0m    \u001b[0msize\u001b[0m\u001b[0;34m=\u001b[0m\u001b[0;36m3\u001b[0m\u001b[0;34m,\u001b[0m\u001b[0;34m\u001b[0m\n",
       "\u001b[0;34m\u001b[0m    \u001b[0malpha\u001b[0m\u001b[0;34m=\u001b[0m\u001b[0;36m0.5\u001b[0m\u001b[0;34m,\u001b[0m\u001b[0;34m\u001b[0m\n",
       "\u001b[0;34m\u001b[0m    \u001b[0minfo\u001b[0m\u001b[0;34m=\u001b[0m\u001b[0;32mFalse\u001b[0m\u001b[0;34m,\u001b[0m\u001b[0;34m\u001b[0m\n",
       "\u001b[0;34m\u001b[0m    \u001b[0mdraw_box\u001b[0m\u001b[0;34m=\u001b[0m\u001b[0;32mNone\u001b[0m\u001b[0;34m,\u001b[0m\u001b[0;34m\u001b[0m\n",
       "\u001b[0;34m\u001b[0m    \u001b[0mpad\u001b[0m\u001b[0;34m=\u001b[0m\u001b[0;36m10\u001b[0m\u001b[0;34m,\u001b[0m\u001b[0;34m\u001b[0m\n",
       "\u001b[0;34m\u001b[0m    \u001b[0mwidth\u001b[0m\u001b[0;34m=\u001b[0m\u001b[0;36m800\u001b[0m\u001b[0;34m,\u001b[0m\u001b[0;34m\u001b[0m\n",
       "\u001b[0;34m\u001b[0m    \u001b[0mheight\u001b[0m\u001b[0;34m=\u001b[0m\u001b[0;36m500\u001b[0m\u001b[0;34m,\u001b[0m\u001b[0;34m\u001b[0m\n",
       "\u001b[0;34m\u001b[0m    \u001b[0;34m**\u001b[0m\u001b[0mkwargs\u001b[0m\u001b[0;34m,\u001b[0m\u001b[0;34m\u001b[0m\n",
       "\u001b[0;34m\u001b[0m\u001b[0;34m)\u001b[0m\u001b[0;34m\u001b[0m\u001b[0;34m\u001b[0m\u001b[0m\n",
       "\u001b[0;31mDocstring:\u001b[0m     \n",
       "This widget can visualize a brambox dataset as bounding boxes drawn on top of the images as cutouts.\n",
       "It's arguments work a lot like brambox's `brambox.util.BoxDrawer` class.\n",
       "\n",
       "Args:\n",
       "    images (callable or dict-like object): A way to get the image or path to the image from the image labels in the dataframe\n",
       "    boxes (pandas.DataFrame): Bounding boxes to draw\n",
       "    label (pandas.Series): Label to write above the boxes; Default **class_label (confidence)**\n",
       "    color (pandas.Series): Color to use for drawing; Default **every class_label will get its own color, up to 10 labels**\n",
       "    size (pandas.Series): Thickness of the border of the bounding boxes; Default **3**\n",
       "    alpha (pandas.Series): Alpha fill value of the bounding boxes; Default **50**\n",
       "    info (boolean): Whether or not to show a side-pane with extra information about the clicked bounding box; Default **False**\n",
       "    draw_box (int): Whether or to draw the bounding box or mask (see Note); Default **mask if available, else bounding box**\n",
       "    pad (int, float or tuple of 2 int/float): Padding to add around the width and height (see Note); Default **10**\n",
       "    width (Integer): Width of the widget in pixels; Default **750**\n",
       "    height (Integer): Height of the widget in pixels; Default **500**\n",
       "    **kwargs (dict): Extra keyword arguments that can be passed to the default `ImageCanvas`\n",
       "\n",
       "Note:\n",
       "    If the `images` argument is callable, the image or path to the image will be retrieved in the following way:\n",
       "    >>> image = images(image_label)\n",
       "\n",
       "    Otherwise the image or path is retrieved as:\n",
       "    >>> image = images[image_label]\n",
       "\n",
       "Note:\n",
       "    The `label`, `color`, `size` and `alpha` arguments can also be tacked on to the `boxes` dataframe as columns.\n",
       "    They can also be a single value, which will then be used for each bounding box. |br|\n",
       "    Basically, as long as you can assign the value as a new column to the dataframe, it will work.\n",
       "\n",
       "Note:\n",
       "    The padding property can be one of 4 possible types:\n",
       "    - *int*             : A fixed pixel padding is added to each side.\n",
       "    - *float*           : A fixed pixel padding is added to each side. The padding is computed as ``pad*box_width``.\n",
       "    - *(int, int)*      : Separate pixel padding for the width and height.\n",
       "    - *(float, float)*  : Separate pixel padding for the width and height. The padding is computed as ``(pad[0]*box_width, pad[1]*box_height)``.\n",
       "\n",
       "    Note that the padding is clipped inside of the image boundaries.\n",
       "\n",
       "Note:\n",
       "    The `draw_box` variable can be one of 3 different values:\n",
       "\n",
       "    - 0 : Draw nothing\n",
       "    - 1 : Draw bounding boxes\n",
       "    - 2 : Draw segmentation masks (only available if 'segmentation' column is found in boxes)\n",
       "\n",
       "    You can also change this value by clicking on the \"toggle box/mask\" button.\n",
       "\u001b[0;31mInit docstring:\u001b[0m Public constructor\n",
       "\u001b[0;31mFile:\u001b[0m           /media/data/Documents/code/python/ibb/ibb/_cutout_viewer.py\n",
       "\u001b[0;31mType:\u001b[0m           MetaHasTraits\n",
       "\u001b[0;31mSubclasses:\u001b[0m     \n"
      ]
     },
     "metadata": {},
     "output_type": "display_data"
    }
   ],
   "source": [
    "ibb.CutoutViewer?"
   ]
  },
  {
   "cell_type": "markdown",
   "id": "d21e407d-b8f4-4377-8e8b-f7a5aa7d2926",
   "metadata": {},
   "source": [
    "## Example"
   ]
  },
  {
   "cell_type": "code",
   "execution_count": 3,
   "id": "48560f71-e300-4012-8ab6-e199d583abce",
   "metadata": {},
   "outputs": [
    {
     "data": {
      "text/html": [
       "<div>\n",
       "<style scoped>\n",
       "    .dataframe tbody tr th:only-of-type {\n",
       "        vertical-align: middle;\n",
       "    }\n",
       "\n",
       "    .dataframe tbody tr th {\n",
       "        vertical-align: top;\n",
       "    }\n",
       "\n",
       "    .dataframe thead th {\n",
       "        text-align: right;\n",
       "    }\n",
       "</style>\n",
       "<table border=\"1\" class=\"dataframe\">\n",
       "  <thead>\n",
       "    <tr style=\"text-align: right;\">\n",
       "      <th></th>\n",
       "      <th>image</th>\n",
       "      <th>class_label</th>\n",
       "      <th>id</th>\n",
       "      <th>x_top_left</th>\n",
       "      <th>y_top_left</th>\n",
       "      <th>width</th>\n",
       "      <th>height</th>\n",
       "      <th>occluded</th>\n",
       "      <th>truncated</th>\n",
       "      <th>lost</th>\n",
       "      <th>difficult</th>\n",
       "      <th>ignore</th>\n",
       "    </tr>\n",
       "  </thead>\n",
       "  <tbody>\n",
       "    <tr>\n",
       "      <th>0</th>\n",
       "      <td>000001</td>\n",
       "      <td>dog</td>\n",
       "      <td>NaN</td>\n",
       "      <td>48.0</td>\n",
       "      <td>240.0</td>\n",
       "      <td>147.0</td>\n",
       "      <td>131.0</td>\n",
       "      <td>0.0</td>\n",
       "      <td>1.0</td>\n",
       "      <td>False</td>\n",
       "      <td>False</td>\n",
       "      <td>False</td>\n",
       "    </tr>\n",
       "    <tr>\n",
       "      <th>1</th>\n",
       "      <td>000001</td>\n",
       "      <td>person</td>\n",
       "      <td>NaN</td>\n",
       "      <td>8.0</td>\n",
       "      <td>12.0</td>\n",
       "      <td>344.0</td>\n",
       "      <td>486.0</td>\n",
       "      <td>0.0</td>\n",
       "      <td>1.0</td>\n",
       "      <td>False</td>\n",
       "      <td>False</td>\n",
       "      <td>False</td>\n",
       "    </tr>\n",
       "    <tr>\n",
       "      <th>2</th>\n",
       "      <td>000002</td>\n",
       "      <td>train</td>\n",
       "      <td>NaN</td>\n",
       "      <td>139.0</td>\n",
       "      <td>200.0</td>\n",
       "      <td>68.0</td>\n",
       "      <td>101.0</td>\n",
       "      <td>0.0</td>\n",
       "      <td>0.0</td>\n",
       "      <td>False</td>\n",
       "      <td>False</td>\n",
       "      <td>False</td>\n",
       "    </tr>\n",
       "    <tr>\n",
       "      <th>3</th>\n",
       "      <td>000003</td>\n",
       "      <td>sofa</td>\n",
       "      <td>NaN</td>\n",
       "      <td>123.0</td>\n",
       "      <td>155.0</td>\n",
       "      <td>92.0</td>\n",
       "      <td>40.0</td>\n",
       "      <td>0.0</td>\n",
       "      <td>0.0</td>\n",
       "      <td>False</td>\n",
       "      <td>False</td>\n",
       "      <td>False</td>\n",
       "    </tr>\n",
       "    <tr>\n",
       "      <th>4</th>\n",
       "      <td>000003</td>\n",
       "      <td>chair</td>\n",
       "      <td>NaN</td>\n",
       "      <td>239.0</td>\n",
       "      <td>156.0</td>\n",
       "      <td>68.0</td>\n",
       "      <td>49.0</td>\n",
       "      <td>0.0</td>\n",
       "      <td>0.0</td>\n",
       "      <td>False</td>\n",
       "      <td>False</td>\n",
       "      <td>False</td>\n",
       "    </tr>\n",
       "    <tr>\n",
       "      <th>5</th>\n",
       "      <td>000004</td>\n",
       "      <td>car</td>\n",
       "      <td>NaN</td>\n",
       "      <td>13.0</td>\n",
       "      <td>311.0</td>\n",
       "      <td>71.0</td>\n",
       "      <td>51.0</td>\n",
       "      <td>0.0</td>\n",
       "      <td>0.0</td>\n",
       "      <td>False</td>\n",
       "      <td>False</td>\n",
       "      <td>False</td>\n",
       "    </tr>\n",
       "    <tr>\n",
       "      <th>6</th>\n",
       "      <td>000004</td>\n",
       "      <td>car</td>\n",
       "      <td>NaN</td>\n",
       "      <td>362.0</td>\n",
       "      <td>330.0</td>\n",
       "      <td>138.0</td>\n",
       "      <td>59.0</td>\n",
       "      <td>0.0</td>\n",
       "      <td>1.0</td>\n",
       "      <td>False</td>\n",
       "      <td>False</td>\n",
       "      <td>False</td>\n",
       "    </tr>\n",
       "    <tr>\n",
       "      <th>7</th>\n",
       "      <td>000004</td>\n",
       "      <td>car</td>\n",
       "      <td>NaN</td>\n",
       "      <td>235.0</td>\n",
       "      <td>328.0</td>\n",
       "      <td>99.0</td>\n",
       "      <td>47.0</td>\n",
       "      <td>0.0</td>\n",
       "      <td>0.0</td>\n",
       "      <td>False</td>\n",
       "      <td>False</td>\n",
       "      <td>False</td>\n",
       "    </tr>\n",
       "    <tr>\n",
       "      <th>8</th>\n",
       "      <td>000004</td>\n",
       "      <td>car</td>\n",
       "      <td>NaN</td>\n",
       "      <td>175.0</td>\n",
       "      <td>327.0</td>\n",
       "      <td>77.0</td>\n",
       "      <td>37.0</td>\n",
       "      <td>0.0</td>\n",
       "      <td>0.0</td>\n",
       "      <td>False</td>\n",
       "      <td>False</td>\n",
       "      <td>False</td>\n",
       "    </tr>\n",
       "    <tr>\n",
       "      <th>9</th>\n",
       "      <td>000004</td>\n",
       "      <td>car</td>\n",
       "      <td>NaN</td>\n",
       "      <td>139.0</td>\n",
       "      <td>320.0</td>\n",
       "      <td>50.0</td>\n",
       "      <td>39.0</td>\n",
       "      <td>0.0</td>\n",
       "      <td>0.0</td>\n",
       "      <td>False</td>\n",
       "      <td>False</td>\n",
       "      <td>False</td>\n",
       "    </tr>\n",
       "    <tr>\n",
       "      <th>10</th>\n",
       "      <td>000004</td>\n",
       "      <td>car</td>\n",
       "      <td>NaN</td>\n",
       "      <td>108.0</td>\n",
       "      <td>325.0</td>\n",
       "      <td>42.0</td>\n",
       "      <td>28.0</td>\n",
       "      <td>0.0</td>\n",
       "      <td>0.0</td>\n",
       "      <td>False</td>\n",
       "      <td>False</td>\n",
       "      <td>False</td>\n",
       "    </tr>\n",
       "    <tr>\n",
       "      <th>11</th>\n",
       "      <td>000004</td>\n",
       "      <td>car</td>\n",
       "      <td>NaN</td>\n",
       "      <td>84.0</td>\n",
       "      <td>323.0</td>\n",
       "      <td>37.0</td>\n",
       "      <td>27.0</td>\n",
       "      <td>0.0</td>\n",
       "      <td>0.0</td>\n",
       "      <td>False</td>\n",
       "      <td>False</td>\n",
       "      <td>False</td>\n",
       "    </tr>\n",
       "  </tbody>\n",
       "</table>\n",
       "</div>"
      ],
      "text/plain": [
       "     image class_label  id  x_top_left  y_top_left  width  height  occluded  \\\n",
       "0   000001         dog NaN        48.0       240.0  147.0   131.0       0.0   \n",
       "1   000001      person NaN         8.0        12.0  344.0   486.0       0.0   \n",
       "2   000002       train NaN       139.0       200.0   68.0   101.0       0.0   \n",
       "3   000003        sofa NaN       123.0       155.0   92.0    40.0       0.0   \n",
       "4   000003       chair NaN       239.0       156.0   68.0    49.0       0.0   \n",
       "5   000004         car NaN        13.0       311.0   71.0    51.0       0.0   \n",
       "6   000004         car NaN       362.0       330.0  138.0    59.0       0.0   \n",
       "7   000004         car NaN       235.0       328.0   99.0    47.0       0.0   \n",
       "8   000004         car NaN       175.0       327.0   77.0    37.0       0.0   \n",
       "9   000004         car NaN       139.0       320.0   50.0    39.0       0.0   \n",
       "10  000004         car NaN       108.0       325.0   42.0    28.0       0.0   \n",
       "11  000004         car NaN        84.0       323.0   37.0    27.0       0.0   \n",
       "\n",
       "    truncated   lost  difficult  ignore  \n",
       "0         1.0  False      False   False  \n",
       "1         1.0  False      False   False  \n",
       "2         0.0  False      False   False  \n",
       "3         0.0  False      False   False  \n",
       "4         0.0  False      False   False  \n",
       "5         0.0  False      False   False  \n",
       "6         1.0  False      False   False  \n",
       "7         0.0  False      False   False  \n",
       "8         0.0  False      False   False  \n",
       "9         0.0  False      False   False  \n",
       "10        0.0  False      False   False  \n",
       "11        0.0  False      False   False  "
      ]
     },
     "execution_count": 3,
     "metadata": {},
     "output_type": "execute_result"
    }
   ],
   "source": [
    "# Load annotations\n",
    "anno = bb.io.load('pandas', 'annotations.h5')\n",
    "anno"
   ]
  },
  {
   "cell_type": "code",
   "execution_count": 4,
   "id": "b38bc7cf-2345-4832-9829-f32f126b524a",
   "metadata": {},
   "outputs": [
    {
     "data": {
      "application/vnd.jupyter.widget-view+json": {
       "model_id": "3737dd87c15e4f158ed896b9d58301cf",
       "version_major": 2,
       "version_minor": 0
      },
      "text/plain": [
       "CutoutViewer(children=(HBox(children=(HTML(value='000001', layout=Layout(height='28px'), placeholder='image'),…"
      ]
     },
     "metadata": {},
     "output_type": "display_data"
    }
   ],
   "source": [
    "ibb.CutoutViewer(\n",
    "    # Dictionary or Function to map image column to image paths\n",
    "    lambda name: f'images/{name}.jpg',    \n",
    "    anno,\n",
    ")"
   ]
  }
 ],
 "metadata": {
  "kernelspec": {
   "display_name": "Python 3 (ipykernel)",
   "language": "python",
   "name": "python3"
  },
  "language_info": {
   "codemirror_mode": {
    "name": "ipython",
    "version": 3
   },
   "file_extension": ".py",
   "mimetype": "text/x-python",
   "name": "python",
   "nbconvert_exporter": "python",
   "pygments_lexer": "ipython3",
   "version": "3.10.5"
  },
  "widgets": {
   "application/vnd.jupyter.widget-state+json": {
    "state": {
     "11660f4529d5485ca4dfd06c3738cf62": {
      "model_module": "@jupyter-widgets/base",
      "model_module_version": "1.2.0",
      "model_name": "LayoutModel",
      "state": {
       "border": "1px solid lightgray",
       "height": "502px",
       "margin": "0 0 0 -1px",
       "overflow_y": "auto",
       "padding": "2px",
       "width": "201px"
      }
     },
     "15d9d5b70b884d7c9b15d332623781b0": {
      "model_module": "@jupyter-widgets/controls",
      "model_module_version": "1.5.0",
      "model_name": "ButtonModel",
      "state": {
       "icon": "square-o",
       "layout": "IPY_MODEL_d71c6eb22fcf4534b7f3d10fed9d9343",
       "style": "IPY_MODEL_4cd6ca606e6d44049030e60ca72067c3",
       "tooltip": "toggle box/mask [box]"
      }
     },
     "1ffe9ca719aa42528a2501f0bf9b56bc": {
      "model_module": "@jupyter-widgets/controls",
      "model_module_version": "1.5.0",
      "model_name": "DescriptionStyleModel",
      "state": {
       "description_width": ""
      }
     },
     "22eb724c96a54582a20a78c96bdac6f2": {
      "model_module": "@jupyter-widgets/controls",
      "model_module_version": "1.5.0",
      "model_name": "ButtonStyleModel",
      "state": {}
     },
     "2ac0dbf184194fafa3df73f68c215dec": {
      "model_module": "@jupyter-widgets/controls",
      "model_module_version": "1.5.0",
      "model_name": "HBoxModel",
      "state": {
       "children": [
        "IPY_MODEL_c1804252e2cb4b22b67a9a395f3a8d4f",
        "IPY_MODEL_d5300ad55d3f456f8f8316d4194c87eb"
       ],
       "layout": "IPY_MODEL_b8b056af24d842dca3c8a7e06fc79b25"
      }
     },
     "34f9dfdfebe54412bac9131f50e37f08": {
      "model_module": "@jupyter-widgets/base",
      "model_module_version": "1.2.0",
      "model_name": "LayoutModel",
      "state": {}
     },
     "3737dd87c15e4f158ed896b9d58301cf": {
      "model_module": "ibb",
      "model_module_version": "^2.1.0",
      "model_name": "MainContainerModel",
      "state": {
       "_model_module_version": "^2.1.0",
       "_view_module_version": "^2.1.0",
       "children": [
        "IPY_MODEL_b2daf98a94774f44bbff3a78086ab4d3",
        "IPY_MODEL_4a7077ad4b78434a96623ea021039977",
        "IPY_MODEL_646f909274f743028c374978b17ef866"
       ],
       "layout": "IPY_MODEL_c563d01a9c734cad9362395a534f3909"
      }
     },
     "3f896e5e46894bda82f1c3d819148c80": {
      "model_module": "@jupyter-widgets/controls",
      "model_module_version": "1.5.0",
      "model_name": "DescriptionStyleModel",
      "state": {
       "description_width": ""
      }
     },
     "40f98dfd9c91479582323a9117b63f1f": {
      "model_module": "@jupyter-widgets/controls",
      "model_module_version": "1.5.0",
      "model_name": "ButtonStyleModel",
      "state": {}
     },
     "43ecf970c4b142dd98605b7817c17a9c": {
      "model_module": "@jupyter-widgets/base",
      "model_module_version": "1.2.0",
      "model_name": "LayoutModel",
      "state": {
       "width": "802px"
      }
     },
     "47c4b51e515a4460a57ae70894d44a77": {
      "model_module": "@jupyter-widgets/base",
      "model_module_version": "1.2.0",
      "model_name": "LayoutModel",
      "state": {
       "justify_content": "flex-end",
       "width": "200px"
      }
     },
     "4a7077ad4b78434a96623ea021039977": {
      "model_module": "@jupyter-widgets/controls",
      "model_module_version": "1.5.0",
      "model_name": "HBoxModel",
      "state": {
       "children": [
        "IPY_MODEL_7116a1790cf14a51b56d1a5117652057"
       ],
       "layout": "IPY_MODEL_43ecf970c4b142dd98605b7817c17a9c"
      }
     },
     "4cd6ca606e6d44049030e60ca72067c3": {
      "model_module": "@jupyter-widgets/controls",
      "model_module_version": "1.5.0",
      "model_name": "ButtonStyleModel",
      "state": {}
     },
     "5d528102248945ab9137a56b06299ef9": {
      "model_module": "@jupyter-widgets/base",
      "model_module_version": "1.2.0",
      "model_name": "LayoutModel",
      "state": {
       "height": "28px"
      }
     },
     "5fb78e1de49b4e3994733d080cf0f15d": {
      "model_module": "@jupyter-widgets/controls",
      "model_module_version": "1.5.0",
      "model_name": "ButtonStyleModel",
      "state": {}
     },
     "646f909274f743028c374978b17ef866": {
      "model_module": "@jupyter-widgets/controls",
      "model_module_version": "1.5.0",
      "model_name": "HBoxModel",
      "state": {
       "children": [
        "IPY_MODEL_2ac0dbf184194fafa3df73f68c215dec",
        "IPY_MODEL_c3d2cd2320eb4436b047b9b4b2634f4a"
       ],
       "layout": "IPY_MODEL_a4f03f3deb824bb38c5bbe95e6878ea2"
      }
     },
     "64a74ea8d0f047fea75ac67b155ddd68": {
      "model_module": "@jupyter-widgets/controls",
      "model_module_version": "1.5.0",
      "model_name": "ButtonStyleModel",
      "state": {}
     },
     "7116a1790cf14a51b56d1a5117652057": {
      "buffers": [
       {
        "data": "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",
        "encoding": "base64",
        "path": [
         "image",
         "data"
        ]
       }
      ],
      "model_module": "ibb",
      "model_module_version": "^2.1.0",
      "model_name": "ImageCanvasModel",
      "state": {
       "_model_module_version": "^2.1.0",
       "_view_module_version": "^2.1.0",
       "alpha": "00",
       "click_style": null,
       "clicked": null,
       "color": "#1F77B4",
       "enable_poly": true,
       "enlarge": true,
       "height": 502,
       "hover_style": null,
       "hovered": null,
       "image": {
        "shape": [
         151,
         167
        ]
       },
       "layout": "IPY_MODEL_b1d51b6d21214bdd953958dce66c773a",
       "polygons": [
        {
         "alpha": "7f",
         "color": "rgb(44, 160, 44)",
         "coords": [
          [
           10,
           10
          ],
          [
           157,
           10
          ],
          [
           157,
           141
          ],
          [
           10,
           141
          ]
         ],
         "size": 3
        }
       ],
       "save": false,
       "size": 2,
       "width": 802
      }
     },
     "7b5584fcd6cd425c9e3027c044163134": {
      "model_module": "@jupyter-widgets/base",
      "model_module_version": "1.2.0",
      "model_name": "LayoutModel",
      "state": {}
     },
     "806f7099ce354313a4355801f7a84229": {
      "model_module": "@jupyter-widgets/controls",
      "model_module_version": "1.5.0",
      "model_name": "HTMLModel",
      "state": {
       "layout": "IPY_MODEL_5d528102248945ab9137a56b06299ef9",
       "placeholder": "image",
       "style": "IPY_MODEL_1ffe9ca719aa42528a2501f0bf9b56bc",
       "value": "000001"
      }
     },
     "894138b6cb724c7a9810512a00f6e199": {
      "model_module": "@jupyter-widgets/controls",
      "model_module_version": "1.5.0",
      "model_name": "HTMLModel",
      "state": {
       "layout": "IPY_MODEL_a8de83b7e5564e3ab89732f962cbbaff",
       "style": "IPY_MODEL_98e7cecbdf3c43c0aad1c3d23ca44d59",
       "value": "/ 11"
      }
     },
     "92f7aa96c73d409f98217c2f6511b9bc": {
      "model_module": "@jupyter-widgets/base",
      "model_module_version": "1.2.0",
      "model_name": "LayoutModel",
      "state": {}
     },
     "98e7cecbdf3c43c0aad1c3d23ca44d59": {
      "model_module": "@jupyter-widgets/controls",
      "model_module_version": "1.5.0",
      "model_name": "DescriptionStyleModel",
      "state": {
       "description_width": ""
      }
     },
     "a4f03f3deb824bb38c5bbe95e6878ea2": {
      "model_module": "@jupyter-widgets/base",
      "model_module_version": "1.2.0",
      "model_name": "LayoutModel",
      "state": {
       "justify_content": "space-between",
       "width": "802px"
      }
     },
     "a7f9580e089341e48e069ab19c96cfd0": {
      "model_module": "@jupyter-widgets/controls",
      "model_module_version": "1.5.0",
      "model_name": "IntTextModel",
      "state": {
       "layout": "IPY_MODEL_d9c9f70a5ea34bf4ac26f88dd1f913e3",
       "step": 1,
       "style": "IPY_MODEL_a8886b76451748d186b394c3b7aea969"
      }
     },
     "a8886b76451748d186b394c3b7aea969": {
      "model_module": "@jupyter-widgets/controls",
      "model_module_version": "1.5.0",
      "model_name": "DescriptionStyleModel",
      "state": {
       "description_width": ""
      }
     },
     "a8de83b7e5564e3ab89732f962cbbaff": {
      "model_module": "@jupyter-widgets/base",
      "model_module_version": "1.2.0",
      "model_name": "LayoutModel",
      "state": {}
     },
     "b167c0ed63094819a26d8eda644afccb": {
      "model_module": "@jupyter-widgets/base",
      "model_module_version": "1.2.0",
      "model_name": "LayoutModel",
      "state": {
       "justify_content": "space-between",
       "width": "802px"
      }
     },
     "b1d51b6d21214bdd953958dce66c773a": {
      "model_module": "@jupyter-widgets/base",
      "model_module_version": "1.2.0",
      "model_name": "LayoutModel",
      "state": {}
     },
     "b2daf98a94774f44bbff3a78086ab4d3": {
      "model_module": "@jupyter-widgets/controls",
      "model_module_version": "1.5.0",
      "model_name": "HBoxModel",
      "state": {
       "children": [
        "IPY_MODEL_806f7099ce354313a4355801f7a84229",
        "IPY_MODEL_c2abc02f36674df0a0ede492a3ec2b90"
       ],
       "layout": "IPY_MODEL_b167c0ed63094819a26d8eda644afccb"
      }
     },
     "b646e21292c64c7db78500245e963142": {
      "model_module": "@jupyter-widgets/controls",
      "model_module_version": "1.5.0",
      "model_name": "ButtonModel",
      "state": {
       "icon": "bars",
       "layout": "IPY_MODEL_c47d06653dac42b99f8af67362ebd440",
       "style": "IPY_MODEL_64a74ea8d0f047fea75ac67b155ddd68",
       "tooltip": "toggle info"
      }
     },
     "b8b056af24d842dca3c8a7e06fc79b25": {
      "model_module": "@jupyter-widgets/base",
      "model_module_version": "1.2.0",
      "model_name": "LayoutModel",
      "state": {
       "width": "200px"
      }
     },
     "c1804252e2cb4b22b67a9a395f3a8d4f": {
      "model_module": "@jupyter-widgets/controls",
      "model_module_version": "1.5.0",
      "model_name": "ButtonModel",
      "state": {
       "icon": "backward",
       "layout": "IPY_MODEL_34f9dfdfebe54412bac9131f50e37f08",
       "style": "IPY_MODEL_22eb724c96a54582a20a78c96bdac6f2"
      }
     },
     "c2abc02f36674df0a0ede492a3ec2b90": {
      "model_module": "@jupyter-widgets/controls",
      "model_module_version": "1.5.0",
      "model_name": "HBoxModel",
      "state": {
       "children": [
        "IPY_MODEL_e73aad7f39a24e8b92b5df4897a5cab7",
        "IPY_MODEL_f9716da15f0142d898692255bac89709",
        "IPY_MODEL_15d9d5b70b884d7c9b15d332623781b0",
        "IPY_MODEL_b646e21292c64c7db78500245e963142"
       ],
       "layout": "IPY_MODEL_7b5584fcd6cd425c9e3027c044163134"
      }
     },
     "c3d2cd2320eb4436b047b9b4b2634f4a": {
      "model_module": "@jupyter-widgets/controls",
      "model_module_version": "1.5.0",
      "model_name": "HBoxModel",
      "state": {
       "children": [
        "IPY_MODEL_a7f9580e089341e48e069ab19c96cfd0",
        "IPY_MODEL_894138b6cb724c7a9810512a00f6e199"
       ],
       "layout": "IPY_MODEL_47c4b51e515a4460a57ae70894d44a77"
      }
     },
     "c47d06653dac42b99f8af67362ebd440": {
      "model_module": "@jupyter-widgets/base",
      "model_module_version": "1.2.0",
      "model_name": "LayoutModel",
      "state": {
       "width": "34px"
      }
     },
     "c563d01a9c734cad9362395a534f3909": {
      "model_module": "@jupyter-widgets/base",
      "model_module_version": "1.2.0",
      "model_name": "LayoutModel",
      "state": {
       "align_items": "center",
       "width": "100%"
      }
     },
     "c70a1f76d9f44b78ac4119262882dd91": {
      "model_module": "@jupyter-widgets/base",
      "model_module_version": "1.2.0",
      "model_name": "LayoutModel",
      "state": {
       "height": "28px"
      }
     },
     "c80ea8d4a5f740d2a755ef2d9f949584": {
      "model_module": "@jupyter-widgets/controls",
      "model_module_version": "1.5.0",
      "model_name": "HTMLModel",
      "state": {
       "layout": "IPY_MODEL_11660f4529d5485ca4dfd06c3738cf62",
       "placeholder": "info",
       "style": "IPY_MODEL_3f896e5e46894bda82f1c3d819148c80",
       "value": "<dl><dt>class_label</dt><dd style=\"text-align:right; margin-bottom:5px\">dog</dd><dt>difficult</dt><dd style=\"text-align:right; margin-bottom:5px\">False</dd><dt>id</dt><dd style=\"text-align:right; margin-bottom:5px\">nan</dd><dt>ignore</dt><dd style=\"text-align:right; margin-bottom:5px\">False</dd><dt>lost</dt><dd style=\"text-align:right; margin-bottom:5px\">False</dd><dt>occluded</dt><dd style=\"text-align:right; margin-bottom:5px\">0.0</dd><dt>truncated</dt><dd style=\"text-align:right; margin-bottom:5px\">1.0</dd><dt>x_top_left</dt><dd style=\"text-align:right; margin-bottom:5px\">48.0</dd><dt>y_top_left</dt><dd style=\"text-align:right; margin-bottom:5px\">240.0</dd><dt>width</dt><dd style=\"text-align:right; margin-bottom:5px\">147.0</dd><dt>height</dt><dd style=\"text-align:right; margin-bottom:5px\">131.0</dd></dl>"
      }
     },
     "c97b2f3a53d845178dd95fbad5d166df": {
      "model_module": "@jupyter-widgets/base",
      "model_module_version": "1.2.0",
      "model_name": "LayoutModel",
      "state": {
       "width": "34px"
      }
     },
     "d5300ad55d3f456f8f8316d4194c87eb": {
      "model_module": "@jupyter-widgets/controls",
      "model_module_version": "1.5.0",
      "model_name": "ButtonModel",
      "state": {
       "icon": "forward",
       "layout": "IPY_MODEL_92f7aa96c73d409f98217c2f6511b9bc",
       "style": "IPY_MODEL_5fb78e1de49b4e3994733d080cf0f15d"
      }
     },
     "d71c6eb22fcf4534b7f3d10fed9d9343": {
      "model_module": "@jupyter-widgets/base",
      "model_module_version": "1.2.0",
      "model_name": "LayoutModel",
      "state": {
       "width": "34px"
      }
     },
     "d9c9f70a5ea34bf4ac26f88dd1f913e3": {
      "model_module": "@jupyter-widgets/base",
      "model_module_version": "1.2.0",
      "model_name": "LayoutModel",
      "state": {
       "width": "75px"
      }
     },
     "e73aad7f39a24e8b92b5df4897a5cab7": {
      "model_module": "@jupyter-widgets/controls",
      "model_module_version": "1.5.0",
      "model_name": "HTMLModel",
      "state": {
       "layout": "IPY_MODEL_c70a1f76d9f44b78ac4119262882dd91",
       "placeholder": "label",
       "style": "IPY_MODEL_fddcb9bd907045d9bc9aead6aaa3acfc",
       "value": "dog"
      }
     },
     "f9716da15f0142d898692255bac89709": {
      "model_module": "@jupyter-widgets/controls",
      "model_module_version": "1.5.0",
      "model_name": "ButtonModel",
      "state": {
       "icon": "picture-o",
       "layout": "IPY_MODEL_c97b2f3a53d845178dd95fbad5d166df",
       "style": "IPY_MODEL_40f98dfd9c91479582323a9117b63f1f",
       "tooltip": "save image"
      }
     },
     "fddcb9bd907045d9bc9aead6aaa3acfc": {
      "model_module": "@jupyter-widgets/controls",
      "model_module_version": "1.5.0",
      "model_name": "DescriptionStyleModel",
      "state": {
       "description_width": ""
      }
     }
    },
    "version_major": 2,
    "version_minor": 0
   }
  }
 },
 "nbformat": 4,
 "nbformat_minor": 5
}
