{
 "cells": [
  {
   "cell_type": "code",
   "execution_count": 1,
   "id": "d6925a65-3a68-42ad-9c84-e8d1fdd34b11",
   "metadata": {},
   "outputs": [],
   "source": [
    "import ipywidgets\n",
    "import ibb"
   ]
  },
  {
   "cell_type": "code",
   "execution_count": 2,
   "id": "107cd7b2-0d86-4bab-b47e-9bcad1786f7c",
   "metadata": {},
   "outputs": [],
   "source": [
    "ctrl = ibb.widgets.PatchControls(total_width=10, total_height=20)\n",
    "out = ipywidgets.Output()\n",
    "\n",
    "def observe_index(change):\n",
    "    out.clear_output()\n",
    "    with out:\n",
    "        print(ctrl.index_width, ctrl.index_height)\n",
    "              \n",
    "ctrl.observe(observe_index, names=['index_width', 'index_height'])"
   ]
  },
  {
   "cell_type": "code",
   "execution_count": 3,
   "id": "5981b4af-349e-4341-a964-bd0097701384",
   "metadata": {},
   "outputs": [
    {
     "data": {
      "application/vnd.jupyter.widget-view+json": {
       "model_id": "10e61386e6f54fb59e7c507232d44b54",
       "version_major": 2,
       "version_minor": 0
      },
      "text/plain": [
       "VBox(children=(PatchControls(children=(RepeatButton(delay=0.5, frequency=5.0, icon='caret-up', style=ButtonSty…"
      ]
     },
     "execution_count": 3,
     "metadata": {},
     "output_type": "execute_result"
    }
   ],
   "source": [
    "ipywidgets.VBox([ctrl, out])"
   ]
  }
 ],
 "metadata": {
  "kernelspec": {
   "display_name": "Python 3 (ipykernel)",
   "language": "python",
   "name": "python3"
  },
  "language_info": {
   "codemirror_mode": {
    "name": "ipython",
    "version": 3
   },
   "file_extension": ".py",
   "mimetype": "text/x-python",
   "name": "python",
   "nbconvert_exporter": "python",
   "pygments_lexer": "ipython3",
   "version": "3.10.6"
  },
  "widgets": {
   "application/vnd.jupyter.widget-state+json": {
    "state": {
     "02973a6d047748089db049177130a011": {
      "model_module": "ibb",
      "model_module_version": "^2.1.1",
      "model_name": "RepeatButtonModel",
      "state": {
       "_model_module_version": "^2.1.1",
       "_view_module_version": "^2.1.1",
       "delay": 0.5,
       "frequency": 5,
       "icon": "caret-left",
       "layout": "IPY_MODEL_97991521e8f54f66bb3239298bafcab8",
       "style": "IPY_MODEL_44207d26a32b4e8eb937d2d5672a70aa",
       "tooltip": "Move patch left"
      }
     },
     "0d6d343805e645328ca48d19f95f6a7c": {
      "model_module": "@jupyter-widgets/controls",
      "model_module_version": "2.0.0",
      "model_name": "ButtonStyleModel",
      "state": {
       "font_family": null,
       "font_size": null,
       "font_style": null,
       "font_variant": null,
       "font_weight": null,
       "text_color": null,
       "text_decoration": null
      }
     },
     "10689fddaff54794a0321e7a7d481fc7": {
      "model_module": "@jupyter-widgets/base",
      "model_module_version": "2.0.0",
      "model_name": "LayoutModel",
      "state": {}
     },
     "10e61386e6f54fb59e7c507232d44b54": {
      "model_module": "@jupyter-widgets/controls",
      "model_module_version": "2.0.0",
      "model_name": "VBoxModel",
      "state": {
       "children": [
        "IPY_MODEL_cd1f7fba74d343c7b2088bb22143ed4a",
        "IPY_MODEL_762f8e622fd346f39c9de54ffef17409"
       ],
       "layout": "IPY_MODEL_87d76586c48c4673b2d4550419df8b56"
      }
     },
     "11b66756df464a95b5845916a06e6a91": {
      "model_module": "@jupyter-widgets/output",
      "model_module_version": "1.0.0",
      "model_name": "OutputModel",
      "state": {
       "layout": "IPY_MODEL_10689fddaff54794a0321e7a7d481fc7",
       "outputs": [
        {
         "name": "stdout",
         "output_type": "stream",
         "text": "7 10\n"
        }
       ]
      }
     },
     "12b28394bfa24e03b7d2f630fe883b68": {
      "model_module": "ibb",
      "model_module_version": "^3.0.0",
      "model_name": "RepeatButtonModel",
      "state": {
       "_model_module_version": "^3.0.0",
       "_view_module_version": "^3.0.0",
       "delay": 0.5,
       "frequency": 5,
       "icon": "caret-up",
       "layout": "IPY_MODEL_d13793f198f343ecb49e3906f472c03c",
       "style": "IPY_MODEL_30ad874b05da4b78a814811ac4836bd4",
       "tooltip": "Move patch up"
      }
     },
     "1be4b8a9ff09479da8e8c7fb128b554a": {
      "model_module": "@jupyter-widgets/controls",
      "model_module_version": "2.0.0",
      "model_name": "ButtonStyleModel",
      "state": {}
     },
     "2973faec40584e599a97a2b64f7311ab": {
      "model_module": "ibb",
      "model_module_version": "^3.0.0",
      "model_name": "UnlinkBoxModel",
      "state": {
       "_dom_classes": [
        "ibb-patch-control"
       ],
       "_model_module_version": "^3.0.0",
       "_view_module_version": "^3.0.0",
       "children": [
        "IPY_MODEL_12b28394bfa24e03b7d2f630fe883b68",
        "IPY_MODEL_d60e04002ecb42d8be62ffd698efd14b",
        "IPY_MODEL_8bc81373a2d44b5194573e53e6b64b6f",
        "IPY_MODEL_f3d8bf79d65741ad8dc689ba9792f8c1"
       ],
       "layout": "IPY_MODEL_bfe8ce77039d4bbc8e670ac053a79519",
       "type": "grid"
      }
     },
     "29b0fbf33524457fa4f3e7ac84c154a3": {
      "model_module": "@jupyter-widgets/controls",
      "model_module_version": "2.0.0",
      "model_name": "ButtonStyleModel",
      "state": {
       "font_family": null,
       "font_size": null,
       "font_style": null,
       "font_variant": null,
       "font_weight": null,
       "text_color": null,
       "text_decoration": null
      }
     },
     "30ad874b05da4b78a814811ac4836bd4": {
      "model_module": "@jupyter-widgets/controls",
      "model_module_version": "2.0.0",
      "model_name": "ButtonStyleModel",
      "state": {
       "font_family": null,
       "font_size": null,
       "font_style": null,
       "font_variant": null,
       "font_weight": null,
       "text_color": null,
       "text_decoration": null
      }
     },
     "31a9ffa0e0954db8a9db7ae917898584": {
      "model_module": "@jupyter-widgets/controls",
      "model_module_version": "2.0.0",
      "model_name": "ButtonStyleModel",
      "state": {
       "font_family": null,
       "font_size": null,
       "font_style": null,
       "font_variant": null,
       "font_weight": null,
       "text_color": null,
       "text_decoration": null
      }
     },
     "32bb55d2e06549938117984508201153": {
      "model_module": "@jupyter-widgets/base",
      "model_module_version": "2.0.0",
      "model_name": "LayoutModel",
      "state": {}
     },
     "35dc5c68e1e6441ca161c496f772b88e": {
      "model_module": "@jupyter-widgets/controls",
      "model_module_version": "2.0.0",
      "model_name": "ButtonStyleModel",
      "state": {}
     },
     "3c25b50037b3426995e1c66668b4c9e9": {
      "model_module": "@jupyter-widgets/base",
      "model_module_version": "2.0.0",
      "model_name": "LayoutModel",
      "state": {}
     },
     "44207d26a32b4e8eb937d2d5672a70aa": {
      "model_module": "@jupyter-widgets/controls",
      "model_module_version": "2.0.0",
      "model_name": "ButtonStyleModel",
      "state": {}
     },
     "50ee672158314f9e8396d3d15081b2cc": {
      "model_module": "@jupyter-widgets/base",
      "model_module_version": "2.0.0",
      "model_name": "LayoutModel",
      "state": {}
     },
     "50f1024ea14843dc9962c3f273421f03": {
      "model_module": "@jupyter-widgets/base",
      "model_module_version": "2.0.0",
      "model_name": "LayoutModel",
      "state": {}
     },
     "5a75cf13acb742f1ab376d04323ae495": {
      "model_module": "ibb",
      "model_module_version": "^3.0.0",
      "model_name": "RepeatButtonModel",
      "state": {
       "_dom_classes": [
        "ibb-square-button"
       ],
       "_model_module_version": "^3.0.0",
       "_view_module_version": "^3.0.0",
       "delay": 0.5,
       "frequency": 5,
       "icon": "caret-down",
       "layout": "IPY_MODEL_50f1024ea14843dc9962c3f273421f03",
       "style": "IPY_MODEL_ad268426d7ad48269ab22d674d2cc61e",
       "tooltip": "Move patch down"
      }
     },
     "601c052c16774aaa839770add9cfc918": {
      "model_module": "@jupyter-widgets/controls",
      "model_module_version": "2.0.0",
      "model_name": "ButtonStyleModel",
      "state": {
       "font_family": null,
       "font_size": null,
       "font_style": null,
       "font_variant": null,
       "font_weight": null,
       "text_color": null,
       "text_decoration": null
      }
     },
     "762f8e622fd346f39c9de54ffef17409": {
      "model_module": "@jupyter-widgets/output",
      "model_module_version": "1.0.0",
      "model_name": "OutputModel",
      "state": {
       "layout": "IPY_MODEL_8a3a78a34b1644dfa6bd4c49fee1b431",
       "outputs": [
        {
         "name": "stdout",
         "output_type": "stream",
         "text": "7 10\n"
        }
       ]
      }
     },
     "79ba1df75ec546ffb91e22f4e917df90": {
      "model_module": "@jupyter-widgets/base",
      "model_module_version": "2.0.0",
      "model_name": "LayoutModel",
      "state": {}
     },
     "7bc1ee54487c488e9d0d8805a9885e58": {
      "model_module": "@jupyter-widgets/base",
      "model_module_version": "2.0.0",
      "model_name": "LayoutModel",
      "state": {}
     },
     "80f12cffc432460d8fbcf5d5cade5917": {
      "model_module": "@jupyter-widgets/controls",
      "model_module_version": "2.0.0",
      "model_name": "VBoxModel",
      "state": {
       "children": [
        "IPY_MODEL_2973faec40584e599a97a2b64f7311ab",
        "IPY_MODEL_11b66756df464a95b5845916a06e6a91"
       ],
       "layout": "IPY_MODEL_e1d9a7b0c63547ff890792dc9cdcf41a"
      }
     },
     "87d76586c48c4673b2d4550419df8b56": {
      "model_module": "@jupyter-widgets/base",
      "model_module_version": "2.0.0",
      "model_name": "LayoutModel",
      "state": {}
     },
     "8a3a78a34b1644dfa6bd4c49fee1b431": {
      "model_module": "@jupyter-widgets/base",
      "model_module_version": "2.0.0",
      "model_name": "LayoutModel",
      "state": {}
     },
     "8bc81373a2d44b5194573e53e6b64b6f": {
      "model_module": "ibb",
      "model_module_version": "^3.0.0",
      "model_name": "RepeatButtonModel",
      "state": {
       "_model_module_version": "^3.0.0",
       "_view_module_version": "^3.0.0",
       "delay": 0.5,
       "frequency": 5,
       "icon": "caret-right",
       "layout": "IPY_MODEL_d13793f198f343ecb49e3906f472c03c",
       "style": "IPY_MODEL_31a9ffa0e0954db8a9db7ae917898584",
       "tooltip": "Move patch right"
      }
     },
     "97991521e8f54f66bb3239298bafcab8": {
      "model_module": "@jupyter-widgets/base",
      "model_module_version": "2.0.0",
      "model_name": "LayoutModel",
      "state": {
       "padding": "0",
       "width": "var(--jp-widgets-inline-height)"
      }
     },
     "9c03f615ab9d4e7a8c4858cfa1f19428": {
      "model_module": "@jupyter-widgets/controls",
      "model_module_version": "2.0.0",
      "model_name": "ButtonStyleModel",
      "state": {
       "font_family": null,
       "font_size": null,
       "font_style": null,
       "font_variant": null,
       "font_weight": null,
       "text_color": null,
       "text_decoration": null
      }
     },
     "9c7ea3c600e748818c71fbe06ed7383d": {
      "model_module": "@jupyter-widgets/controls",
      "model_module_version": "2.0.0",
      "model_name": "ButtonStyleModel",
      "state": {
       "font_family": null,
       "font_size": null,
       "font_style": null,
       "font_variant": null,
       "font_weight": null,
       "text_color": null,
       "text_decoration": null
      }
     },
     "a00c08aa4b8a4d41be0eb1b4826f39f1": {
      "model_module": "@jupyter-widgets/controls",
      "model_module_version": "2.0.0",
      "model_name": "ButtonStyleModel",
      "state": {}
     },
     "a11e8ec050d04811906134d487ba3e5c": {
      "model_module": "ibb",
      "model_module_version": "^2.1.1",
      "model_name": "RepeatButtonModel",
      "state": {
       "_model_module_version": "^2.1.1",
       "_view_module_version": "^2.1.1",
       "delay": 0.5,
       "frequency": 5,
       "icon": "caret-down",
       "layout": "IPY_MODEL_97991521e8f54f66bb3239298bafcab8",
       "style": "IPY_MODEL_35dc5c68e1e6441ca161c496f772b88e",
       "tooltip": "Move patch down"
      }
     },
     "ad268426d7ad48269ab22d674d2cc61e": {
      "model_module": "@jupyter-widgets/controls",
      "model_module_version": "2.0.0",
      "model_name": "ButtonStyleModel",
      "state": {
       "font_family": null,
       "font_size": null,
       "font_style": null,
       "font_variant": null,
       "font_weight": null,
       "text_color": null,
       "text_decoration": null
      }
     },
     "b0015657f81f446292cfec9fe6476be0": {
      "model_module": "@jupyter-widgets/base",
      "model_module_version": "2.0.0",
      "model_name": "LayoutModel",
      "state": {}
     },
     "b0c45754a24c47f288e35633866e06ac": {
      "model_module": "ibb",
      "model_module_version": "^3.0.0",
      "model_name": "RepeatButtonModel",
      "state": {
       "_dom_classes": [
        "ibb-square-button"
       ],
       "_model_module_version": "^3.0.0",
       "_view_module_version": "^3.0.0",
       "delay": 0.5,
       "frequency": 5,
       "icon": "caret-right",
       "layout": "IPY_MODEL_b0015657f81f446292cfec9fe6476be0",
       "style": "IPY_MODEL_0d6d343805e645328ca48d19f95f6a7c",
       "tooltip": "Move patch right"
      }
     },
     "bc2a4b1225654e699507c64f0dfb10e5": {
      "model_module": "@jupyter-widgets/controls",
      "model_module_version": "2.0.0",
      "model_name": "VBoxModel",
      "state": {
       "children": [
        "IPY_MODEL_e3d1f5733ab540b88b46384aae669ca1",
        "IPY_MODEL_bee4b8353d0e4f72aa2ed7cee96888a2"
       ],
       "layout": "IPY_MODEL_7bc1ee54487c488e9d0d8805a9885e58"
      }
     },
     "bee4b8353d0e4f72aa2ed7cee96888a2": {
      "model_module": "@jupyter-widgets/output",
      "model_module_version": "1.0.0",
      "model_name": "OutputModel",
      "state": {
       "layout": "IPY_MODEL_c387e9bbf85743e59b36fb1b8f10b104",
       "outputs": [
        {
         "name": "stdout",
         "output_type": "stream",
         "text": "7 10\n"
        }
       ]
      }
     },
     "bfe8ce77039d4bbc8e670ac053a79519": {
      "model_module": "@jupyter-widgets/base",
      "model_module_version": "2.0.0",
      "model_name": "LayoutModel",
      "state": {}
     },
     "c387e9bbf85743e59b36fb1b8f10b104": {
      "model_module": "@jupyter-widgets/base",
      "model_module_version": "2.0.0",
      "model_name": "LayoutModel",
      "state": {}
     },
     "cd1f7fba74d343c7b2088bb22143ed4a": {
      "model_module": "ibb",
      "model_module_version": "^3.0.0",
      "model_name": "UnlinkBoxModel",
      "state": {
       "_dom_classes": [
        "ibb-patch-control"
       ],
       "_model_module_version": "^3.0.0",
       "_view_module_version": "^3.0.0",
       "children": [
        "IPY_MODEL_d7e47b18d6af488995ab66f28a09c9fe",
        "IPY_MODEL_e0ced77f69e44e53984a94b2d21c3e91",
        "IPY_MODEL_b0c45754a24c47f288e35633866e06ac",
        "IPY_MODEL_5a75cf13acb742f1ab376d04323ae495"
       ],
       "layout": "IPY_MODEL_50ee672158314f9e8396d3d15081b2cc",
       "type": "grid"
      }
     },
     "d0893ea70edc472ab6b7b42a0c8917d5": {
      "model_module": "ibb",
      "model_module_version": "^2.1.1",
      "model_name": "RepeatButtonModel",
      "state": {
       "_model_module_version": "^2.1.1",
       "_view_module_version": "^2.1.1",
       "delay": 0.5,
       "frequency": 5,
       "icon": "caret-up",
       "layout": "IPY_MODEL_97991521e8f54f66bb3239298bafcab8",
       "style": "IPY_MODEL_a00c08aa4b8a4d41be0eb1b4826f39f1",
       "tooltip": "Move patch up"
      }
     },
     "d13793f198f343ecb49e3906f472c03c": {
      "model_module": "@jupyter-widgets/base",
      "model_module_version": "2.0.0",
      "model_name": "LayoutModel",
      "state": {
       "padding": "0",
       "width": "var(--jp-widgets-inline-height)"
      }
     },
     "d60e04002ecb42d8be62ffd698efd14b": {
      "model_module": "ibb",
      "model_module_version": "^3.0.0",
      "model_name": "RepeatButtonModel",
      "state": {
       "_model_module_version": "^3.0.0",
       "_view_module_version": "^3.0.0",
       "delay": 0.5,
       "frequency": 5,
       "icon": "caret-left",
       "layout": "IPY_MODEL_d13793f198f343ecb49e3906f472c03c",
       "style": "IPY_MODEL_29b0fbf33524457fa4f3e7ac84c154a3",
       "tooltip": "Move patch left"
      }
     },
     "d7e47b18d6af488995ab66f28a09c9fe": {
      "model_module": "ibb",
      "model_module_version": "^3.0.0",
      "model_name": "RepeatButtonModel",
      "state": {
       "_dom_classes": [
        "ibb-square-button"
       ],
       "_model_module_version": "^3.0.0",
       "_view_module_version": "^3.0.0",
       "delay": 0.5,
       "frequency": 5,
       "icon": "caret-up",
       "layout": "IPY_MODEL_32bb55d2e06549938117984508201153",
       "style": "IPY_MODEL_601c052c16774aaa839770add9cfc918",
       "tooltip": "Move patch up"
      }
     },
     "e0ced77f69e44e53984a94b2d21c3e91": {
      "model_module": "ibb",
      "model_module_version": "^3.0.0",
      "model_name": "RepeatButtonModel",
      "state": {
       "_dom_classes": [
        "ibb-square-button"
       ],
       "_model_module_version": "^3.0.0",
       "_view_module_version": "^3.0.0",
       "delay": 0.5,
       "frequency": 5,
       "icon": "caret-left",
       "layout": "IPY_MODEL_79ba1df75ec546ffb91e22f4e917df90",
       "style": "IPY_MODEL_9c03f615ab9d4e7a8c4858cfa1f19428",
       "tooltip": "Move patch left"
      }
     },
     "e1d9a7b0c63547ff890792dc9cdcf41a": {
      "model_module": "@jupyter-widgets/base",
      "model_module_version": "2.0.0",
      "model_name": "LayoutModel",
      "state": {}
     },
     "e3d1f5733ab540b88b46384aae669ca1": {
      "model_module": "ibb",
      "model_module_version": "^2.1.1",
      "model_name": "UnlinkBoxModel",
      "state": {
       "_dom_classes": [
        "ibb-patch-control"
       ],
       "_model_module_version": "^2.1.1",
       "_view_module_version": "^2.1.1",
       "children": [
        "IPY_MODEL_d0893ea70edc472ab6b7b42a0c8917d5",
        "IPY_MODEL_02973a6d047748089db049177130a011",
        "IPY_MODEL_f9ce324f6b6942aea41b4a5a5bf334f1",
        "IPY_MODEL_a11e8ec050d04811906134d487ba3e5c"
       ],
       "layout": "IPY_MODEL_3c25b50037b3426995e1c66668b4c9e9",
       "type": "grid"
      }
     },
     "f3d8bf79d65741ad8dc689ba9792f8c1": {
      "model_module": "ibb",
      "model_module_version": "^3.0.0",
      "model_name": "RepeatButtonModel",
      "state": {
       "_model_module_version": "^3.0.0",
       "_view_module_version": "^3.0.0",
       "delay": 0.5,
       "frequency": 5,
       "icon": "caret-down",
       "layout": "IPY_MODEL_d13793f198f343ecb49e3906f472c03c",
       "style": "IPY_MODEL_9c7ea3c600e748818c71fbe06ed7383d",
       "tooltip": "Move patch down"
      }
     },
     "f9ce324f6b6942aea41b4a5a5bf334f1": {
      "model_module": "ibb",
      "model_module_version": "^2.1.1",
      "model_name": "RepeatButtonModel",
      "state": {
       "_model_module_version": "^2.1.1",
       "_view_module_version": "^2.1.1",
       "delay": 0.5,
       "frequency": 5,
       "icon": "caret-right",
       "layout": "IPY_MODEL_97991521e8f54f66bb3239298bafcab8",
       "style": "IPY_MODEL_1be4b8a9ff09479da8e8c7fb128b554a",
       "tooltip": "Move patch right"
      }
     }
    },
    "version_major": 2,
    "version_minor": 0
   }
  }
 },
 "nbformat": 4,
 "nbformat_minor": 5
}
