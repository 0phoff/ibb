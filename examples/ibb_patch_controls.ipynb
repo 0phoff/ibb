{
 "cells": [
  {
   "cell_type": "code",
   "execution_count": 1,
   "id": "d6925a65-3a68-42ad-9c84-e8d1fdd34b11",
   "metadata": {},
   "outputs": [],
   "source": [
    "import ipywidgets\n",
    "import ibb"
   ]
  },
  {
   "cell_type": "code",
   "execution_count": 2,
   "id": "107cd7b2-0d86-4bab-b47e-9bcad1786f7c",
   "metadata": {},
   "outputs": [],
   "source": [
    "ctrl = ibb.widgets.PatchControls(total_width=10, total_height=20)\n",
    "out = ipywidgets.Output()\n",
    "\n",
    "def observe_index(change):\n",
    "    out.clear_output()\n",
    "    with out:\n",
    "        print(ctrl.index_width, ctrl.index_height)\n",
    "              \n",
    "ctrl.observe(observe_index, names=['index_width', 'index_height'])"
   ]
  },
  {
   "cell_type": "code",
   "execution_count": 3,
   "id": "5981b4af-349e-4341-a964-bd0097701384",
   "metadata": {},
   "outputs": [
    {
     "data": {
      "application/vnd.jupyter.widget-view+json": {
       "model_id": "bc2a4b1225654e699507c64f0dfb10e5",
       "version_major": 2,
       "version_minor": 0
      },
      "text/plain": [
       "VBox(children=(PatchControls(children=(RepeatButton(delay=0.5, frequency=5.0, icon='caret-up', layout=Layout(p…"
      ]
     },
     "metadata": {},
     "output_type": "display_data"
    }
   ],
   "source": [
    "ipywidgets.VBox([ctrl, out])"
   ]
  }
 ],
 "metadata": {
  "kernelspec": {
   "display_name": "Python 3 (ipykernel)",
   "language": "python",
   "name": "python3"
  },
  "language_info": {
   "codemirror_mode": {
    "name": "ipython",
    "version": 3
   },
   "file_extension": ".py",
   "mimetype": "text/x-python",
   "name": "python",
   "nbconvert_exporter": "python",
   "pygments_lexer": "ipython3",
   "version": "3.10.5"
  },
  "widgets": {
   "application/vnd.jupyter.widget-state+json": {
    "state": {
     "02973a6d047748089db049177130a011": {
      "model_module": "ibb",
      "model_module_version": "^2.1.1",
      "model_name": "RepeatButtonModel",
      "state": {
       "_model_module_version": "^2.1.1",
       "_view_module_version": "^2.1.1",
       "delay": 0.5,
       "frequency": 5,
       "icon": "caret-left",
       "layout": "IPY_MODEL_97991521e8f54f66bb3239298bafcab8",
       "style": "IPY_MODEL_44207d26a32b4e8eb937d2d5672a70aa",
       "tooltip": "Move patch left"
      }
     },
     "1be4b8a9ff09479da8e8c7fb128b554a": {
      "model_module": "@jupyter-widgets/controls",
      "model_module_version": "1.5.0",
      "model_name": "ButtonStyleModel",
      "state": {}
     },
     "35dc5c68e1e6441ca161c496f772b88e": {
      "model_module": "@jupyter-widgets/controls",
      "model_module_version": "1.5.0",
      "model_name": "ButtonStyleModel",
      "state": {}
     },
     "3c25b50037b3426995e1c66668b4c9e9": {
      "model_module": "@jupyter-widgets/base",
      "model_module_version": "1.2.0",
      "model_name": "LayoutModel",
      "state": {}
     },
     "44207d26a32b4e8eb937d2d5672a70aa": {
      "model_module": "@jupyter-widgets/controls",
      "model_module_version": "1.5.0",
      "model_name": "ButtonStyleModel",
      "state": {}
     },
     "7bc1ee54487c488e9d0d8805a9885e58": {
      "model_module": "@jupyter-widgets/base",
      "model_module_version": "1.2.0",
      "model_name": "LayoutModel",
      "state": {}
     },
     "97991521e8f54f66bb3239298bafcab8": {
      "model_module": "@jupyter-widgets/base",
      "model_module_version": "1.2.0",
      "model_name": "LayoutModel",
      "state": {
       "padding": "0",
       "width": "var(--jp-widgets-inline-height)"
      }
     },
     "a00c08aa4b8a4d41be0eb1b4826f39f1": {
      "model_module": "@jupyter-widgets/controls",
      "model_module_version": "1.5.0",
      "model_name": "ButtonStyleModel",
      "state": {}
     },
     "a11e8ec050d04811906134d487ba3e5c": {
      "model_module": "ibb",
      "model_module_version": "^2.1.1",
      "model_name": "RepeatButtonModel",
      "state": {
       "_model_module_version": "^2.1.1",
       "_view_module_version": "^2.1.1",
       "delay": 0.5,
       "frequency": 5,
       "icon": "caret-down",
       "layout": "IPY_MODEL_97991521e8f54f66bb3239298bafcab8",
       "style": "IPY_MODEL_35dc5c68e1e6441ca161c496f772b88e",
       "tooltip": "Move patch down"
      }
     },
     "bc2a4b1225654e699507c64f0dfb10e5": {
      "model_module": "@jupyter-widgets/controls",
      "model_module_version": "1.5.0",
      "model_name": "VBoxModel",
      "state": {
       "children": [
        "IPY_MODEL_e3d1f5733ab540b88b46384aae669ca1",
        "IPY_MODEL_bee4b8353d0e4f72aa2ed7cee96888a2"
       ],
       "layout": "IPY_MODEL_7bc1ee54487c488e9d0d8805a9885e58"
      }
     },
     "bee4b8353d0e4f72aa2ed7cee96888a2": {
      "model_module": "@jupyter-widgets/output",
      "model_module_version": "1.0.0",
      "model_name": "OutputModel",
      "state": {
       "layout": "IPY_MODEL_c387e9bbf85743e59b36fb1b8f10b104",
       "outputs": [
        {
         "name": "stdout",
         "output_type": "stream",
         "text": "7 10\n"
        }
       ]
      }
     },
     "c387e9bbf85743e59b36fb1b8f10b104": {
      "model_module": "@jupyter-widgets/base",
      "model_module_version": "1.2.0",
      "model_name": "LayoutModel",
      "state": {}
     },
     "d0893ea70edc472ab6b7b42a0c8917d5": {
      "model_module": "ibb",
      "model_module_version": "^2.1.1",
      "model_name": "RepeatButtonModel",
      "state": {
       "_model_module_version": "^2.1.1",
       "_view_module_version": "^2.1.1",
       "delay": 0.5,
       "frequency": 5,
       "icon": "caret-up",
       "layout": "IPY_MODEL_97991521e8f54f66bb3239298bafcab8",
       "style": "IPY_MODEL_a00c08aa4b8a4d41be0eb1b4826f39f1",
       "tooltip": "Move patch up"
      }
     },
     "e3d1f5733ab540b88b46384aae669ca1": {
      "model_module": "ibb",
      "model_module_version": "^2.1.1",
      "model_name": "UnlinkBoxModel",
      "state": {
       "_dom_classes": [
        "ibb-patch-control"
       ],
       "_model_module_version": "^2.1.1",
       "_view_module_version": "^2.1.1",
       "children": [
        "IPY_MODEL_d0893ea70edc472ab6b7b42a0c8917d5",
        "IPY_MODEL_02973a6d047748089db049177130a011",
        "IPY_MODEL_f9ce324f6b6942aea41b4a5a5bf334f1",
        "IPY_MODEL_a11e8ec050d04811906134d487ba3e5c"
       ],
       "layout": "IPY_MODEL_3c25b50037b3426995e1c66668b4c9e9",
       "type": "grid"
      }
     },
     "f9ce324f6b6942aea41b4a5a5bf334f1": {
      "model_module": "ibb",
      "model_module_version": "^2.1.1",
      "model_name": "RepeatButtonModel",
      "state": {
       "_model_module_version": "^2.1.1",
       "_view_module_version": "^2.1.1",
       "delay": 0.5,
       "frequency": 5,
       "icon": "caret-right",
       "layout": "IPY_MODEL_97991521e8f54f66bb3239298bafcab8",
       "style": "IPY_MODEL_1be4b8a9ff09479da8e8c7fb128b554a",
       "tooltip": "Move patch right"
      }
     }
    },
    "version_major": 2,
    "version_minor": 0
   }
  }
 },
 "nbformat": 4,
 "nbformat_minor": 5
}
