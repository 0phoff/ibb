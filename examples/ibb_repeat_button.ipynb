{
 "cells": [
  {
   "cell_type": "code",
   "execution_count": 1,
   "id": "01810008-a51e-438a-af17-584febaa3e5b",
   "metadata": {},
   "outputs": [],
   "source": [
    "import ipywidgets\n",
    "import ibb"
   ]
  },
  {
   "cell_type": "code",
   "execution_count": 2,
   "id": "2d996d29-2adb-44d6-9a0a-2cf79f0a9a89",
   "metadata": {},
   "outputs": [],
   "source": [
    "out = ipywidgets.Output()\n",
    "btn = ibb.widgets.RepeatButton(\n",
    "    description='Click me',\n",
    "    icon='check',\n",
    "    delay=3,\n",
    "    frequency=2,\n",
    ")\n",
    "\n",
    "def click_handler(btn):\n",
    "    # Set number of times pressed\n",
    "    try:\n",
    "        click_handler.counter += 1\n",
    "    except AttributeError:\n",
    "        click_handler.counter = 1\n",
    "        \n",
    "    out.clear_output()\n",
    "    with out:\n",
    "        print(f'PRESSED {click_handler.counter}')\n",
    "\n",
    "btn.on_click(click_handler)"
   ]
  },
  {
   "cell_type": "code",
   "execution_count": 3,
   "id": "77c9673f-283c-4164-8c9b-f9576b63153f",
   "metadata": {},
   "outputs": [
    {
     "data": {
      "application/vnd.jupyter.widget-view+json": {
       "model_id": "9efccb1235134ce49a990fe6373ed4db",
       "version_major": 2,
       "version_minor": 0
      },
      "text/plain": [
       "VBox(children=(RepeatButton(delay=3.0, description='Click me', frequency=2.0, icon='check', style=ButtonStyle(…"
      ]
     },
     "metadata": {},
     "output_type": "display_data"
    }
   ],
   "source": [
    "ipywidgets.VBox([btn, out])"
   ]
  }
 ],
 "metadata": {
  "kernelspec": {
   "display_name": "Python 3 (ipykernel)",
   "language": "python",
   "name": "python3"
  },
  "language_info": {
   "codemirror_mode": {
    "name": "ipython",
    "version": 3
   },
   "file_extension": ".py",
   "mimetype": "text/x-python",
   "name": "python",
   "nbconvert_exporter": "python",
   "pygments_lexer": "ipython3",
   "version": "3.10.5"
  },
  "widgets": {
   "application/vnd.jupyter.widget-state+json": {
    "state": {
     "1f8195289a82405ba82775c352a37786": {
      "model_module": "ibb",
      "model_module_version": "^2.1.1",
      "model_name": "RepeatButtonModel",
      "state": {
       "_model_module_version": "^2.1.1",
       "_view_module_version": "^2.1.1",
       "delay": 3,
       "description": "Click me",
       "frequency": 2,
       "icon": "check",
       "layout": "IPY_MODEL_58a2e3b3371a4525af7eceba68550b0a",
       "style": "IPY_MODEL_7df3e970eda34332aed5ac3282dda2cf"
      }
     },
     "273292d7b778471e9500893a00247389": {
      "model_module": "@jupyter-widgets/base",
      "model_module_version": "1.2.0",
      "model_name": "LayoutModel",
      "state": {}
     },
     "58a2e3b3371a4525af7eceba68550b0a": {
      "model_module": "@jupyter-widgets/base",
      "model_module_version": "1.2.0",
      "model_name": "LayoutModel",
      "state": {}
     },
     "7649199a03784d368462002b37aef510": {
      "model_module": "@jupyter-widgets/base",
      "model_module_version": "1.2.0",
      "model_name": "LayoutModel",
      "state": {}
     },
     "7df3e970eda34332aed5ac3282dda2cf": {
      "model_module": "@jupyter-widgets/controls",
      "model_module_version": "1.5.0",
      "model_name": "ButtonStyleModel",
      "state": {}
     },
     "8e86b0347bdd48edbca0e8e0d6d350fe": {
      "model_module": "ibb",
      "model_module_version": "^2.1.1",
      "model_name": "RepeatButtonModel",
      "state": {
       "_model_module_version": "^2.1.1",
       "_view_module_version": "^2.1.1",
       "delay": 3,
       "description": "Click me",
       "frequency": 2,
       "icon": "check",
       "layout": "IPY_MODEL_fa821b7e8866442db56fc041da9c7dfd",
       "style": "IPY_MODEL_fcad93face6643e6905980fafee516e9"
      }
     },
     "987f31b077314f9bb4d1e292e7cc7b2e": {
      "model_module": "@jupyter-widgets/output",
      "model_module_version": "1.0.0",
      "model_name": "OutputModel",
      "state": {
       "layout": "IPY_MODEL_273292d7b778471e9500893a00247389"
      }
     },
     "9efccb1235134ce49a990fe6373ed4db": {
      "model_module": "@jupyter-widgets/controls",
      "model_module_version": "1.5.0",
      "model_name": "VBoxModel",
      "state": {
       "children": [
        "IPY_MODEL_8e86b0347bdd48edbca0e8e0d6d350fe",
        "IPY_MODEL_cb4cf2533bf5414a906cca755790ba5d"
       ],
       "layout": "IPY_MODEL_f155670d1bad416697092bb63b302b24"
      }
     },
     "cb4cf2533bf5414a906cca755790ba5d": {
      "model_module": "@jupyter-widgets/output",
      "model_module_version": "1.0.0",
      "model_name": "OutputModel",
      "state": {
       "layout": "IPY_MODEL_7649199a03784d368462002b37aef510",
       "outputs": [
        {
         "name": "stdout",
         "output_type": "stream",
         "text": "PRESSED 10\n"
        }
       ]
      }
     },
     "f155670d1bad416697092bb63b302b24": {
      "model_module": "@jupyter-widgets/base",
      "model_module_version": "1.2.0",
      "model_name": "LayoutModel",
      "state": {}
     },
     "f6a45809e5a44d25b87f0d0179140690": {
      "model_module": "@jupyter-widgets/controls",
      "model_module_version": "1.5.0",
      "model_name": "VBoxModel",
      "state": {
       "children": [
        "IPY_MODEL_1f8195289a82405ba82775c352a37786",
        "IPY_MODEL_987f31b077314f9bb4d1e292e7cc7b2e"
       ],
       "layout": "IPY_MODEL_f6fa6e8c9ba9463885420f5b5a04fba9"
      }
     },
     "f6fa6e8c9ba9463885420f5b5a04fba9": {
      "model_module": "@jupyter-widgets/base",
      "model_module_version": "1.2.0",
      "model_name": "LayoutModel",
      "state": {}
     },
     "fa821b7e8866442db56fc041da9c7dfd": {
      "model_module": "@jupyter-widgets/base",
      "model_module_version": "1.2.0",
      "model_name": "LayoutModel",
      "state": {}
     },
     "fcad93face6643e6905980fafee516e9": {
      "model_module": "@jupyter-widgets/controls",
      "model_module_version": "1.5.0",
      "model_name": "ButtonStyleModel",
      "state": {}
     }
    },
    "version_major": 2,
    "version_minor": 0
   }
  }
 },
 "nbformat": 4,
 "nbformat_minor": 5
}
