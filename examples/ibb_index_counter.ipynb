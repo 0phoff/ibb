{
 "cells": [
  {
   "cell_type": "code",
   "execution_count": 1,
   "id": "25365f30-9198-491b-8d4b-f4b386c68a50",
   "metadata": {},
   "outputs": [],
   "source": [
    "import ibb"
   ]
  },
  {
   "cell_type": "code",
   "execution_count": 2,
   "id": "863620cb-f1d1-4f98-94f6-849872271c33",
   "metadata": {},
   "outputs": [
    {
     "data": {
      "application/vnd.jupyter.widget-view+json": {
       "model_id": "33338549591c4e6ea370f8289fa0cb90",
       "version_major": 2,
       "version_minor": 0
      },
      "text/plain": [
       "IndexCounter(children=(BoundedIntText(value=1, layout=Layout(flex='0 1 auto', max_width='75px'), min=1), Label…"
      ]
     },
     "metadata": {},
     "output_type": "display_data"
    }
   ],
   "source": [
    "counter = ibb.widgets.IndexCounter(100)\n",
    "counter"
   ]
  },
  {
   "cell_type": "code",
   "execution_count": 3,
   "id": "dd3ea86e-1ae0-4fca-afa5-6b7aa221a7d1",
   "metadata": {},
   "outputs": [],
   "source": [
    "# Sets number to 16, as we start from 1 in the widget\n",
    "counter.index = 15"
   ]
  }
 ],
 "metadata": {
  "kernelspec": {
   "display_name": "Python 3 (ipykernel)",
   "language": "python",
   "name": "python3"
  },
  "language_info": {
   "codemirror_mode": {
    "name": "ipython",
    "version": 3
   },
   "file_extension": ".py",
   "mimetype": "text/x-python",
   "name": "python",
   "nbconvert_exporter": "python",
   "pygments_lexer": "ipython3",
   "version": "3.10.5"
  },
  "widgets": {
   "application/vnd.jupyter.widget-state+json": {
    "state": {
     "04f8545b50b744b995177ebd27b8fa92": {
      "model_module": "ibb",
      "model_module_version": "^2.1.1",
      "model_name": "UnlinkBoxModel",
      "state": {
       "_model_module_version": "^2.1.1",
       "_view_module_version": "^2.1.1",
       "children": [
        "IPY_MODEL_4002c628e4c64c9ab5986eaf60d4f9d6",
        "IPY_MODEL_f0b1816523c54ab88b33c94370b6152e"
       ],
       "layout": "IPY_MODEL_5eb1fe20cfb149a5a77313eddb5a0fb6",
       "type": "hbox"
      }
     },
     "0cb7701428a94558bffa6936513e206d": {
      "model_module": "@jupyter-widgets/controls",
      "model_module_version": "1.5.0",
      "model_name": "BoundedIntTextModel",
      "state": {
       "layout": "IPY_MODEL_d4fdcf6509d94b3788bb77e9e386e866",
       "min": 1,
       "style": "IPY_MODEL_49bbfd25080048fbaeb2cd91793006d6",
       "value": 16
      }
     },
     "0d1a5001f38340f996d6476c1aab8ff9": {
      "model_module": "@jupyter-widgets/base",
      "model_module_version": "1.2.0",
      "model_name": "LayoutModel",
      "state": {}
     },
     "11dd961ea411498f865b5486b363e665": {
      "model_module": "@jupyter-widgets/controls",
      "model_module_version": "1.5.0",
      "model_name": "LabelModel",
      "state": {
       "layout": "IPY_MODEL_d1657400a2e74036b5c54821109371b4",
       "style": "IPY_MODEL_f7ad072b21b8445fa48b7610ebbe633d",
       "value": "/ 100"
      }
     },
     "1354eabc6ac644a1b9f760f47d6264d4": {
      "model_module": "@jupyter-widgets/base",
      "model_module_version": "1.2.0",
      "model_name": "LayoutModel",
      "state": {}
     },
     "177283941ea6471cb8455e44cd9a95b4": {
      "model_module": "@jupyter-widgets/base",
      "model_module_version": "1.2.0",
      "model_name": "LayoutModel",
      "state": {
       "flex": "0 1 auto",
       "max_width": "75px"
      }
     },
     "2aa8b2ef150a44bc8c54243e79bf008d": {
      "model_module": "@jupyter-widgets/controls",
      "model_module_version": "1.5.0",
      "model_name": "DescriptionStyleModel",
      "state": {
       "description_width": ""
      }
     },
     "2d59a16c44d048ae9b5e64ee49f0914b": {
      "model_module": "@jupyter-widgets/controls",
      "model_module_version": "1.5.0",
      "model_name": "BoundedIntTextModel",
      "state": {
       "layout": "IPY_MODEL_b6c9c20c65d3405e8da9bb3e9d8db4ab",
       "min": 1,
       "style": "IPY_MODEL_2aa8b2ef150a44bc8c54243e79bf008d",
       "value": 16
      }
     },
     "31e654acf0764087af54d18750c18689": {
      "model_module": "@jupyter-widgets/base",
      "model_module_version": "1.2.0",
      "model_name": "LayoutModel",
      "state": {}
     },
     "33338549591c4e6ea370f8289fa0cb90": {
      "model_module": "ibb",
      "model_module_version": "^2.1.1",
      "model_name": "UnlinkBoxModel",
      "state": {
       "_model_module_version": "^2.1.1",
       "_view_module_version": "^2.1.1",
       "children": [
        "IPY_MODEL_2d59a16c44d048ae9b5e64ee49f0914b",
        "IPY_MODEL_7417df73f71543acb793b9c72d30aff6"
       ],
       "layout": "IPY_MODEL_31e654acf0764087af54d18750c18689",
       "type": "hbox"
      }
     },
     "4002c628e4c64c9ab5986eaf60d4f9d6": {
      "model_module": "@jupyter-widgets/controls",
      "model_module_version": "1.5.0",
      "model_name": "BoundedIntTextModel",
      "state": {
       "layout": "IPY_MODEL_177283941ea6471cb8455e44cd9a95b4",
       "min": 1,
       "style": "IPY_MODEL_f76b4d005f2a44c6879a223f444fafb1",
       "value": 16
      }
     },
     "49bbfd25080048fbaeb2cd91793006d6": {
      "model_module": "@jupyter-widgets/controls",
      "model_module_version": "1.5.0",
      "model_name": "DescriptionStyleModel",
      "state": {
       "description_width": ""
      }
     },
     "5eb1fe20cfb149a5a77313eddb5a0fb6": {
      "model_module": "@jupyter-widgets/base",
      "model_module_version": "1.2.0",
      "model_name": "LayoutModel",
      "state": {}
     },
     "7417df73f71543acb793b9c72d30aff6": {
      "model_module": "@jupyter-widgets/controls",
      "model_module_version": "1.5.0",
      "model_name": "LabelModel",
      "state": {
       "layout": "IPY_MODEL_0d1a5001f38340f996d6476c1aab8ff9",
       "style": "IPY_MODEL_ff12016f780c477c806c2fd0de8d3f47",
       "value": "/ 100"
      }
     },
     "b6c9c20c65d3405e8da9bb3e9d8db4ab": {
      "model_module": "@jupyter-widgets/base",
      "model_module_version": "1.2.0",
      "model_name": "LayoutModel",
      "state": {
       "flex": "0 1 auto",
       "max_width": "75px"
      }
     },
     "c6e668345f3e467486fdb09e3ac7cd97": {
      "model_module": "ibb",
      "model_module_version": "^2.1.1",
      "model_name": "UnlinkBoxModel",
      "state": {
       "_model_module_version": "^2.1.1",
       "_view_module_version": "^2.1.1",
       "children": [
        "IPY_MODEL_0cb7701428a94558bffa6936513e206d",
        "IPY_MODEL_11dd961ea411498f865b5486b363e665"
       ],
       "layout": "IPY_MODEL_1354eabc6ac644a1b9f760f47d6264d4",
       "type": "hbox"
      }
     },
     "d1657400a2e74036b5c54821109371b4": {
      "model_module": "@jupyter-widgets/base",
      "model_module_version": "1.2.0",
      "model_name": "LayoutModel",
      "state": {}
     },
     "d4fdcf6509d94b3788bb77e9e386e866": {
      "model_module": "@jupyter-widgets/base",
      "model_module_version": "1.2.0",
      "model_name": "LayoutModel",
      "state": {
       "flex": "0 1 auto",
       "max_width": "75px"
      }
     },
     "d7f5f8de1d6f433983740175b2d497c5": {
      "model_module": "@jupyter-widgets/controls",
      "model_module_version": "1.5.0",
      "model_name": "DescriptionStyleModel",
      "state": {
       "description_width": ""
      }
     },
     "ebb0adb8233d49bbb3def1deef7a40a8": {
      "model_module": "@jupyter-widgets/base",
      "model_module_version": "1.2.0",
      "model_name": "LayoutModel",
      "state": {}
     },
     "f0b1816523c54ab88b33c94370b6152e": {
      "model_module": "@jupyter-widgets/controls",
      "model_module_version": "1.5.0",
      "model_name": "LabelModel",
      "state": {
       "layout": "IPY_MODEL_ebb0adb8233d49bbb3def1deef7a40a8",
       "style": "IPY_MODEL_d7f5f8de1d6f433983740175b2d497c5",
       "value": "/ 100"
      }
     },
     "f76b4d005f2a44c6879a223f444fafb1": {
      "model_module": "@jupyter-widgets/controls",
      "model_module_version": "1.5.0",
      "model_name": "DescriptionStyleModel",
      "state": {
       "description_width": ""
      }
     },
     "f7ad072b21b8445fa48b7610ebbe633d": {
      "model_module": "@jupyter-widgets/controls",
      "model_module_version": "1.5.0",
      "model_name": "DescriptionStyleModel",
      "state": {
       "description_width": ""
      }
     },
     "ff12016f780c477c806c2fd0de8d3f47": {
      "model_module": "@jupyter-widgets/controls",
      "model_module_version": "1.5.0",
      "model_name": "DescriptionStyleModel",
      "state": {
       "description_width": ""
      }
     }
    },
    "version_major": 2,
    "version_minor": 0
   }
  }
 },
 "nbformat": 4,
 "nbformat_minor": 5
}
